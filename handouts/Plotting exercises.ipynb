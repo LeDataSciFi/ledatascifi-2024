{
 "cells": [
  {
   "cell_type": "markdown",
   "id": "698f3156-67e4-4082-aa1c-77a60dfe973c",
   "metadata": {},
   "source": [
    "# Plotting\n",
    "\n",
    "We will plot with 3 datasets this week. Let's load them. "
   ]
  },
  {
   "cell_type": "code",
   "execution_count": 1,
   "id": "f6794d14-ac43-4499-9d73-d8b2902ff1a3",
   "metadata": {},
   "outputs": [],
   "source": [
    "import datetime\n",
    "\n",
    "import matplotlib.pyplot as plt\n",
    "import numpy as np\n",
    "import pandas as pd\n",
    "import pandas_datareader as pdr  # IF NECESSARY, from terminal: pip install pandas_datareader\n",
    "import seaborn as sns\n",
    "from numpy.random import default_rng\n",
    "\n",
    "# these three are used to open the CCM dataset:\n",
    "from io import BytesIO\n",
    "from zipfile import ZipFile\n",
    "from urllib.request import urlopen\n",
    "\n",
    "pd.set_option(\"display.max_rows\", 10)  # display option for pandas\n",
    "# more here: https://pandas.pydata.org/pandas-docs/stable/user_guide/options.html"
   ]
  },
  {
   "cell_type": "markdown",
   "id": "f6a5aeb6-713e-458b-a94b-494a3a153447",
   "metadata": {},
   "source": [
    "## Load macro_data"
   ]
  },
  {
   "cell_type": "code",
   "execution_count": 2,
   "id": "831bc97e-80a2-4a39-bc7f-17c666428872",
   "metadata": {},
   "outputs": [],
   "source": [
    "# LOAD DATA AND CONVERT TO ANNUAL\n",
    "\n",
    "start = 1990 # pandas datareader can infer these are years\n",
    "end = 2018\n",
    "macro_data = pdr.data.DataReader(['CAUR','MIUR','PAUR', # unemployment \n",
    "                                  'LXXRSA','DEXRSA','WDXRSA', # case shiller index in LA, Detroit, DC (no PA  available!)\n",
    "                                  'MEHOINUSCAA672N','MEHOINUSMIA672N','MEHOINUSPAA672N'], #  \n",
    "                                 'fred', start, end)\n",
    "macro_data = macro_data.resample('Y').first() # get's the first observation for each variable in a given year\n",
    "\n",
    "# CLEAN UP THE FORMATING SOMEWHAT\n",
    "\n",
    "macro_data.index = macro_data.index.year\n",
    "macro_data.columns=pd.MultiIndex.from_tuples([\n",
    "    ('Unemployment','CA'),('Unemployment','MI'),('Unemployment','PA'),\n",
    "    ('HouseIdx','CA'),('HouseIdx','MI'),('HouseIdx','PA'),\n",
    "    ('MedIncome','CA'),('MedIncome','MI'),('MedIncome','PA')\n",
    "    ])\n",
    "\n"
   ]
  },
  {
   "cell_type": "code",
   "execution_count": 3,
   "id": "2156bca5-e0af-4142-b867-d9ed1c1cf080",
   "metadata": {},
   "outputs": [],
   "source": [
    "year_state_tall = macro_data.stack().reset_index().rename(columns={'level_1':'state'}).sort_values(['state','DATE'])    \n",
    "\n",
    "year_state_wide = macro_data\n",
    "# one level names\n",
    "year_state_wide.columns=[\n",
    "    'Unemployment_CA','Unemployment_MI','Unemployment_PA',\n",
    "    'HouseIdx_CA','HouseIdx_MI','HouseIdx_PA',\n",
    "    'MedIncome_CA','MedIncome_MI','MedIncome_PA'\n",
    "    ]"
   ]
  },
  {
   "cell_type": "markdown",
   "id": "58480bab-54c3-4c78-9f27-320b31177a73",
   "metadata": {},
   "source": [
    "## And load CCM data\n",
    "\n",
    "First, load the data"
   ]
  },
  {
   "cell_type": "code",
   "execution_count": 4,
   "id": "3c4cf59b-7f2a-42c6-8bad-a0e8d095b6d0",
   "metadata": {},
   "outputs": [],
   "source": [
    "url = 'https://github.com/LeDataSciFi/ledatascifi-2024/blob/main/data/CCM_cleaned_for_class.zip?raw=true'\n",
    "\n",
    "#firms = pd.read_stata(url)   \n",
    "# <-- that code would work, but GH said it was too big and\n",
    "# forced me to zip it, so here is the work around to download it:\n",
    "\n",
    "with urlopen(url) as request:\n",
    "    data = BytesIO(request.read())\n",
    "\n",
    "with ZipFile(data) as archive:\n",
    "    with archive.open(archive.namelist()[0]) as stata:\n",
    "        ccm = pd.read_stata(stata)"
   ]
  },
  {
   "cell_type": "markdown",
   "id": "88a0321d-f678-4d04-8dbc-68c037c78f4a",
   "metadata": {
    "tags": []
   },
   "source": [
    "## Sidebar: Here's a fun EDA hack:\n",
    "\n",
    "https://ydata-profiling.ydata.ai/docs/master/index.html\n",
    "\n",
    "Notes\n",
    "- Slow with huge datasets (see webpage \n",
    "- Doesn't work with multiindex column names (must be \"one level\")"
   ]
  },
  {
   "cell_type": "code",
   "execution_count": 9,
   "id": "ec1365a8-38e2-4ab6-bb7d-7e1b8f0ed455",
   "metadata": {},
   "outputs": [],
   "source": [
    "# install new package (run this one time only)\n",
    "# !pip install -U ydata-profiling\n",
    "\n",
    "# i got an error towards the end but it still installed..."
   ]
  },
  {
   "cell_type": "code",
   "execution_count": 10,
   "id": "49faef62-8691-4fba-9420-b62e894c8e03",
   "metadata": {},
   "outputs": [],
   "source": [
    "# this package used to be called pandas-profiling\n",
    "# new name, better performance (speed and features)\n",
    "# from ydata_profiling import ProfileReport\n",
    "\n",
    "# create the report:\n",
    "# profile = ProfileReport(macro_data, title=\"Pandas Profiling Report\")\n",
    "# profile.to_file(\"macro_data_report.html\")\n",
    "\n"
   ]
  },
  {
   "cell_type": "markdown",
   "id": "2c651052-4760-4e6a-a2cf-8bb9c929df17",
   "metadata": {},
   "source": [
    "From the `year_state` data (wide or tall):\n",
    "\n",
    "_(\"unemployment changes\": Focus on the change in the _level_ (raw difference, not percent change) of unemployment from one year compared the prior year.)_\n",
    "\n",
    "- Q0. How has median income has evolved over time for PA?\n",
    "    - Demos...\n",
    "- Q1. How has *unemployment changes* evolved over time for PA?   \n",
    "- Q2. What is the distribution of unemployment changes for all states (view as one var)?   \n",
    "- Q3. What is the distribution of unemployment changes for all states (separately)?\n",
    "- Q4. How does unemployment changes vary with median income growth?\n",
    "\n",
    "From the `ccm` data:\n",
    "\n",
    "- Q5. Plot the distribution of R&D (`xrd_a`). Bonuses:\n",
    "    - deal with outliers\n",
    "    - add a title\n",
    "    - change the x and y axis titles\n",
    "- Q6: Compare R&D and CAPX. Bonuses:\n",
    "    - don't plot outliers\n",
    "    - avoid oversaturated plot"
   ]
  }
 ],
 "metadata": {
  "kernelspec": {
   "display_name": "Python 3 (ipykernel)",
   "language": "python",
   "name": "python3"
  },
  "language_info": {
   "codemirror_mode": {
    "name": "ipython",
    "version": 3
   },
   "file_extension": ".py",
   "mimetype": "text/x-python",
   "name": "python",
   "nbconvert_exporter": "python",
   "pygments_lexer": "ipython3",
   "version": "3.8.16"
  }
 },
 "nbformat": 4,
 "nbformat_minor": 5
}

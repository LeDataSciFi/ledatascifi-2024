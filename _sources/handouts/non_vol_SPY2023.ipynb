{
 "cells": [
  {
   "cell_type": "markdown",
   "id": "f71d16cf-9782-4cb3-bbda-09ccbdc92a66",
   "metadata": {
    "editable": true,
    "slideshow": {
     "slide_type": ""
    },
    "tags": []
   },
   "source": [
    "# Estimating CAPM\n",
    "\n",
    "- This file can estimate CAPM for any firms that Yahoo has ticker data for.\n",
    "- As written, it will estimate beta separately _for each calendar year_ in the date range you give it. But you can adjust it\n",
    "\n",
    "- _Caveat: Yahoo Finance is more of a \"quick and dirty\" way to get return data. WRDS has more accurate return data._\n",
    "\n"
   ]
  },
  {
   "cell_type": "code",
   "execution_count": 12,
   "id": "5e589e7c-02d3-458a-8749-5e1db8c1f1be",
   "metadata": {
    "editable": true,
    "slideshow": {
     "slide_type": ""
    },
    "tags": []
   },
   "outputs": [],
   "source": [
    "# !pip install pandas_datareader\n",
    "# !pip install yfinance"
   ]
  },
  {
   "cell_type": "code",
   "execution_count": 3,
   "id": "bb3d1e87-288f-42a8-9a97-7146a34d102d",
   "metadata": {
    "editable": true,
    "slideshow": {
     "slide_type": ""
    },
    "tags": []
   },
   "outputs": [],
   "source": [
    "import pandas as pd\n",
    "import numpy as np\n",
    "import pandas_datareader as pdr # you might need to install this (see above)\n",
    "import yfinance as yf           # you might need to install this (see above)\n",
    "from datetime import datetime\n",
    "import seaborn as sns\n",
    "\n",
    "import warnings\n",
    "warnings.filterwarnings(\"ignore\", \"use_inf_as_na\")"
   ]
  },
  {
   "cell_type": "markdown",
   "id": "5dcfeb71-baea-44ee-a52b-679fac6c5a20",
   "metadata": {
    "editable": true,
    "slideshow": {
     "slide_type": ""
    },
    "tags": []
   },
   "source": [
    "## Load asset return data \n",
    "\n",
    "Load your stock returns. This file uses yahoo finance.\n",
    "The returns don't even have to be firms! They can be any asset. (Portfolios, mutual funds, crypto, …)"
   ]
  },
  {
   "cell_type": "code",
   "execution_count": 52,
   "id": "1461aebe-dc3e-413d-b068-aa2ac1e6e93e",
   "metadata": {
    "editable": true,
    "slideshow": {
     "slide_type": ""
    },
    "tags": []
   },
   "outputs": [],
   "source": [
    "# choose your firms and years \n",
    "stocks = ['SPY']\n",
    "start  = datetime(2004, 1, 1)\n",
    "end    = datetime(2023, 12, 31)"
   ]
  },
  {
   "cell_type": "code",
   "execution_count": 53,
   "id": "c2f725b7-98a2-4eb6-b440-e1897b447705",
   "metadata": {
    "editable": true,
    "slideshow": {
     "slide_type": ""
    },
    "tags": []
   },
   "outputs": [
    {
     "data": {
      "text/plain": [
       "['SPY']"
      ]
     },
     "execution_count": 53,
     "metadata": {},
     "output_type": "execute_result"
    }
   ],
   "source": [
    "stocks"
   ]
  },
  {
   "cell_type": "code",
   "execution_count": 55,
   "id": "5015249e-9bcf-4fc4-9914-23dbfe91c201",
   "metadata": {
    "editable": true,
    "slideshow": {
     "slide_type": ""
    },
    "tags": []
   },
   "outputs": [
    {
     "name": "stdout",
     "output_type": "stream",
     "text": [
      "[*********************100%%**********************]  1 of 1 completed\n"
     ]
    }
   ],
   "source": [
    "# download stock prices \n",
    "# here, from yahoo: not my fav source, but quick. \n",
    "# we need to do some data manipulation to get the data ready \n",
    "stock_prices         = yf.download(stocks, start , end)\n",
    "stock_prices.index   = stock_prices.index.tz_localize(None)      # change yf date format to match pdr\n",
    "stock_prices         = stock_prices.filter(like='Adj Close')     # reduce to just columns with this in the name\n",
    "if len(stocks) > 1:\n",
    "    stock_prices.columns = stock_prices.columns.get_level_values(1)  # tickers as col names, works no matter order of tics\n",
    "else:\n",
    "    stock_prices.columns = stocks\n",
    "# stock_prices # uncomment to print and see"
   ]
  },
  {
   "cell_type": "code",
   "execution_count": 56,
   "id": "249fa607-36a6-4a42-8521-d06a75d424cc",
   "metadata": {
    "editable": true,
    "slideshow": {
     "slide_type": ""
    },
    "tags": []
   },
   "outputs": [
    {
     "data": {
      "text/html": [
       "<div>\n",
       "<style scoped>\n",
       "    .dataframe tbody tr th:only-of-type {\n",
       "        vertical-align: middle;\n",
       "    }\n",
       "\n",
       "    .dataframe tbody tr th {\n",
       "        vertical-align: top;\n",
       "    }\n",
       "\n",
       "    .dataframe thead th {\n",
       "        text-align: right;\n",
       "    }\n",
       "</style>\n",
       "<table border=\"1\" class=\"dataframe\">\n",
       "  <thead>\n",
       "    <tr style=\"text-align: right;\">\n",
       "      <th></th>\n",
       "      <th>Firm</th>\n",
       "      <th>Date</th>\n",
       "      <th>Adj Close</th>\n",
       "    </tr>\n",
       "  </thead>\n",
       "  <tbody>\n",
       "    <tr>\n",
       "      <th>0</th>\n",
       "      <td>SPY</td>\n",
       "      <td>2004-01-02</td>\n",
       "      <td>75.865784</td>\n",
       "    </tr>\n",
       "    <tr>\n",
       "      <th>1</th>\n",
       "      <td>SPY</td>\n",
       "      <td>2004-01-05</td>\n",
       "      <td>76.691078</td>\n",
       "    </tr>\n",
       "    <tr>\n",
       "      <th>2</th>\n",
       "      <td>SPY</td>\n",
       "      <td>2004-01-06</td>\n",
       "      <td>76.766106</td>\n",
       "    </tr>\n",
       "    <tr>\n",
       "      <th>3</th>\n",
       "      <td>SPY</td>\n",
       "      <td>2004-01-07</td>\n",
       "      <td>77.025284</td>\n",
       "    </tr>\n",
       "    <tr>\n",
       "      <th>4</th>\n",
       "      <td>SPY</td>\n",
       "      <td>2004-01-08</td>\n",
       "      <td>77.332222</td>\n",
       "    </tr>\n",
       "    <tr>\n",
       "      <th>...</th>\n",
       "      <td>...</td>\n",
       "      <td>...</td>\n",
       "      <td>...</td>\n",
       "    </tr>\n",
       "    <tr>\n",
       "      <th>5028</th>\n",
       "      <td>SPY</td>\n",
       "      <td>2023-12-22</td>\n",
       "      <td>473.649994</td>\n",
       "    </tr>\n",
       "    <tr>\n",
       "      <th>5029</th>\n",
       "      <td>SPY</td>\n",
       "      <td>2023-12-26</td>\n",
       "      <td>475.649994</td>\n",
       "    </tr>\n",
       "    <tr>\n",
       "      <th>5030</th>\n",
       "      <td>SPY</td>\n",
       "      <td>2023-12-27</td>\n",
       "      <td>476.510010</td>\n",
       "    </tr>\n",
       "    <tr>\n",
       "      <th>5031</th>\n",
       "      <td>SPY</td>\n",
       "      <td>2023-12-28</td>\n",
       "      <td>476.690002</td>\n",
       "    </tr>\n",
       "    <tr>\n",
       "      <th>5032</th>\n",
       "      <td>SPY</td>\n",
       "      <td>2023-12-29</td>\n",
       "      <td>475.309998</td>\n",
       "    </tr>\n",
       "  </tbody>\n",
       "</table>\n",
       "<p>5033 rows × 3 columns</p>\n",
       "</div>"
      ],
      "text/plain": [
       "     Firm       Date   Adj Close\n",
       "0     SPY 2004-01-02   75.865784\n",
       "1     SPY 2004-01-05   76.691078\n",
       "2     SPY 2004-01-06   76.766106\n",
       "3     SPY 2004-01-07   77.025284\n",
       "4     SPY 2004-01-08   77.332222\n",
       "...   ...        ...         ...\n",
       "5028  SPY 2023-12-22  473.649994\n",
       "5029  SPY 2023-12-26  475.649994\n",
       "5030  SPY 2023-12-27  476.510010\n",
       "5031  SPY 2023-12-28  476.690002\n",
       "5032  SPY 2023-12-29  475.309998\n",
       "\n",
       "[5033 rows x 3 columns]"
      ]
     },
     "execution_count": 56,
     "metadata": {},
     "output_type": "execute_result"
    }
   ],
   "source": [
    "# this is wide data... so if we want to create a new variable, \n",
    "# then we have to do it once for each firm...\n",
    "# what if we have 1000 firms? seems tough to do...\n",
    "# make long/tidy:\n",
    "stock_prices = stock_prices.stack().swaplevel().sort_index().reset_index()\n",
    "stock_prices.columns = ['Firm','Date','Adj Close']\n",
    "stock_prices # print - now that is formatted nicely, like CRSP! "
   ]
  },
  {
   "cell_type": "code",
   "execution_count": 57,
   "id": "97bc6288-ceed-4bba-a45a-febb13bc1cff",
   "metadata": {
    "editable": true,
    "slideshow": {
     "slide_type": ""
    },
    "tags": []
   },
   "outputs": [],
   "source": [
    "# add return var = pct_change() function compares to prior row\n",
    "# EXCEPT: don't compare for first row of one firm with last row of prior firm!\n",
    "# MAKE SURE YOU CREATE THE VARIABLES WITHIN EACH FIRM - use groupby\n",
    "stock_prices['ret'] = stock_prices.groupby('Firm')['Adj Close'].pct_change()\n",
    "stock_prices['ret'] = stock_prices['ret'] *100 # convert to p.p. \n",
    "\n",
    "stock_prices['Year']=stock_prices['Date'].dt.year # add year column"
   ]
  },
  {
   "cell_type": "code",
   "execution_count": 60,
   "id": "ac7562e3-65d5-4784-ae7d-372e42239db4",
   "metadata": {
    "editable": true,
    "slideshow": {
     "slide_type": ""
    },
    "tags": []
   },
   "outputs": [],
   "source": [
    "stock_prices = stock_prices.dropna(subset = ['ret'])"
   ]
  },
  {
   "cell_type": "code",
   "execution_count": 78,
   "id": "34953cc7-d88d-47b4-88a9-3ee669bfd247",
   "metadata": {
    "editable": true,
    "slideshow": {
     "slide_type": ""
    },
    "tags": []
   },
   "outputs": [
    {
     "data": {
      "text/html": [
       "<div>\n",
       "<style scoped>\n",
       "    .dataframe tbody tr th:only-of-type {\n",
       "        vertical-align: middle;\n",
       "    }\n",
       "\n",
       "    .dataframe tbody tr th {\n",
       "        vertical-align: top;\n",
       "    }\n",
       "\n",
       "    .dataframe thead th {\n",
       "        text-align: right;\n",
       "    }\n",
       "</style>\n",
       "<table border=\"1\" class=\"dataframe\">\n",
       "  <thead>\n",
       "    <tr style=\"text-align: right;\">\n",
       "      <th></th>\n",
       "      <th>Date</th>\n",
       "      <th>Adj Close</th>\n",
       "      <th>ret</th>\n",
       "      <th>Year</th>\n",
       "      <th>outlier</th>\n",
       "    </tr>\n",
       "  </thead>\n",
       "  <tbody>\n",
       "    <tr>\n",
       "      <th>count</th>\n",
       "      <td>5032</td>\n",
       "      <td>5032.000000</td>\n",
       "      <td>5032.000000</td>\n",
       "      <td>5032.000000</td>\n",
       "      <td>5032.000000</td>\n",
       "    </tr>\n",
       "    <tr>\n",
       "      <th>mean</th>\n",
       "      <td>2013-12-31 13:37:35.007949056</td>\n",
       "      <td>187.941150</td>\n",
       "      <td>0.047071</td>\n",
       "      <td>2013.498410</td>\n",
       "      <td>0.027027</td>\n",
       "    </tr>\n",
       "    <tr>\n",
       "      <th>min</th>\n",
       "      <td>2004-01-05 00:00:00</td>\n",
       "      <td>51.179268</td>\n",
       "      <td>-3.010000</td>\n",
       "      <td>2004.000000</td>\n",
       "      <td>0.000000</td>\n",
       "    </tr>\n",
       "    <tr>\n",
       "      <th>25%</th>\n",
       "      <td>2009-01-01 12:00:00</td>\n",
       "      <td>93.402281</td>\n",
       "      <td>-0.401613</td>\n",
       "      <td>2008.750000</td>\n",
       "      <td>0.000000</td>\n",
       "    </tr>\n",
       "    <tr>\n",
       "      <th>50%</th>\n",
       "      <td>2014-01-01 00:00:00</td>\n",
       "      <td>150.245674</td>\n",
       "      <td>0.069995</td>\n",
       "      <td>2013.500000</td>\n",
       "      <td>0.000000</td>\n",
       "    </tr>\n",
       "    <tr>\n",
       "      <th>75%</th>\n",
       "      <td>2018-12-31 12:00:00</td>\n",
       "      <td>256.579338</td>\n",
       "      <td>0.577087</td>\n",
       "      <td>2018.250000</td>\n",
       "      <td>0.000000</td>\n",
       "    </tr>\n",
       "    <tr>\n",
       "      <th>max</th>\n",
       "      <td>2023-12-29 00:00:00</td>\n",
       "      <td>476.690002</td>\n",
       "      <td>3.010000</td>\n",
       "      <td>2023.000000</td>\n",
       "      <td>1.000000</td>\n",
       "    </tr>\n",
       "    <tr>\n",
       "      <th>std</th>\n",
       "      <td>NaN</td>\n",
       "      <td>115.441432</td>\n",
       "      <td>1.012902</td>\n",
       "      <td>5.764441</td>\n",
       "      <td>0.162178</td>\n",
       "    </tr>\n",
       "  </tbody>\n",
       "</table>\n",
       "</div>"
      ],
      "text/plain": [
       "                                Date    Adj Close          ret         Year  \\\n",
       "count                           5032  5032.000000  5032.000000  5032.000000   \n",
       "mean   2013-12-31 13:37:35.007949056   187.941150     0.047071  2013.498410   \n",
       "min              2004-01-05 00:00:00    51.179268    -3.010000  2004.000000   \n",
       "25%              2009-01-01 12:00:00    93.402281    -0.401613  2008.750000   \n",
       "50%              2014-01-01 00:00:00   150.245674     0.069995  2013.500000   \n",
       "75%              2018-12-31 12:00:00   256.579338     0.577087  2018.250000   \n",
       "max              2023-12-29 00:00:00   476.690002     3.010000  2023.000000   \n",
       "std                              NaN   115.441432     1.012902     5.764441   \n",
       "\n",
       "           outlier  \n",
       "count  5032.000000  \n",
       "mean      0.027027  \n",
       "min       0.000000  \n",
       "25%       0.000000  \n",
       "50%       0.000000  \n",
       "75%       0.000000  \n",
       "max       1.000000  \n",
       "std       0.162178  "
      ]
     },
     "execution_count": 78,
     "metadata": {},
     "output_type": "execute_result"
    }
   ],
   "source": [
    "df2 = stock_prices.copy()\n",
    "df2['outlier'] = 1*(abs(df2['ret']) >= 3)\n",
    "df2['ret'] = df2['ret'].clip(lower=-3.01, upper=3.01)\n",
    "df2.describe()"
   ]
  },
  {
   "cell_type": "code",
   "execution_count": 79,
   "id": "550a74a5-2027-4039-879c-cb70976504f5",
   "metadata": {
    "editable": true,
    "slideshow": {
     "slide_type": ""
    },
    "tags": []
   },
   "outputs": [
    {
     "data": {
      "text/html": [
       "<div>\n",
       "<style scoped>\n",
       "    .dataframe tbody tr th:only-of-type {\n",
       "        vertical-align: middle;\n",
       "    }\n",
       "\n",
       "    .dataframe tbody tr th {\n",
       "        vertical-align: top;\n",
       "    }\n",
       "\n",
       "    .dataframe thead th {\n",
       "        text-align: right;\n",
       "    }\n",
       "</style>\n",
       "<table border=\"1\" class=\"dataframe\">\n",
       "  <thead>\n",
       "    <tr style=\"text-align: right;\">\n",
       "      <th></th>\n",
       "      <th>Date</th>\n",
       "      <th>Adj Close</th>\n",
       "      <th>ret</th>\n",
       "      <th>Year</th>\n",
       "      <th>outlier</th>\n",
       "    </tr>\n",
       "  </thead>\n",
       "  <tbody>\n",
       "    <tr>\n",
       "      <th>count</th>\n",
       "      <td>5032</td>\n",
       "      <td>5032.000000</td>\n",
       "      <td>5032.000000</td>\n",
       "      <td>5032.000000</td>\n",
       "      <td>5032.000000</td>\n",
       "    </tr>\n",
       "    <tr>\n",
       "      <th>mean</th>\n",
       "      <td>2013-12-31 13:37:35.007949056</td>\n",
       "      <td>187.941150</td>\n",
       "      <td>0.047071</td>\n",
       "      <td>2013.498410</td>\n",
       "      <td>0.027027</td>\n",
       "    </tr>\n",
       "    <tr>\n",
       "      <th>min</th>\n",
       "      <td>2004-01-05 00:00:00</td>\n",
       "      <td>51.179268</td>\n",
       "      <td>-3.010000</td>\n",
       "      <td>2004.000000</td>\n",
       "      <td>0.000000</td>\n",
       "    </tr>\n",
       "    <tr>\n",
       "      <th>25%</th>\n",
       "      <td>2009-01-01 12:00:00</td>\n",
       "      <td>93.402281</td>\n",
       "      <td>-0.401613</td>\n",
       "      <td>2008.750000</td>\n",
       "      <td>0.000000</td>\n",
       "    </tr>\n",
       "    <tr>\n",
       "      <th>50%</th>\n",
       "      <td>2014-01-01 00:00:00</td>\n",
       "      <td>150.245674</td>\n",
       "      <td>0.069995</td>\n",
       "      <td>2013.500000</td>\n",
       "      <td>0.000000</td>\n",
       "    </tr>\n",
       "    <tr>\n",
       "      <th>75%</th>\n",
       "      <td>2018-12-31 12:00:00</td>\n",
       "      <td>256.579338</td>\n",
       "      <td>0.577087</td>\n",
       "      <td>2018.250000</td>\n",
       "      <td>0.000000</td>\n",
       "    </tr>\n",
       "    <tr>\n",
       "      <th>max</th>\n",
       "      <td>2023-12-29 00:00:00</td>\n",
       "      <td>476.690002</td>\n",
       "      <td>3.010000</td>\n",
       "      <td>2023.000000</td>\n",
       "      <td>1.000000</td>\n",
       "    </tr>\n",
       "    <tr>\n",
       "      <th>std</th>\n",
       "      <td>NaN</td>\n",
       "      <td>115.441432</td>\n",
       "      <td>1.012902</td>\n",
       "      <td>5.764441</td>\n",
       "      <td>0.162178</td>\n",
       "    </tr>\n",
       "  </tbody>\n",
       "</table>\n",
       "</div>"
      ],
      "text/plain": [
       "                                Date    Adj Close          ret         Year  \\\n",
       "count                           5032  5032.000000  5032.000000  5032.000000   \n",
       "mean   2013-12-31 13:37:35.007949056   187.941150     0.047071  2013.498410   \n",
       "min              2004-01-05 00:00:00    51.179268    -3.010000  2004.000000   \n",
       "25%              2009-01-01 12:00:00    93.402281    -0.401613  2008.750000   \n",
       "50%              2014-01-01 00:00:00   150.245674     0.069995  2013.500000   \n",
       "75%              2018-12-31 12:00:00   256.579338     0.577087  2018.250000   \n",
       "max              2023-12-29 00:00:00   476.690002     3.010000  2023.000000   \n",
       "std                              NaN   115.441432     1.012902     5.764441   \n",
       "\n",
       "           outlier  \n",
       "count  5032.000000  \n",
       "mean      0.027027  \n",
       "min       0.000000  \n",
       "25%       0.000000  \n",
       "50%       0.000000  \n",
       "75%       0.000000  \n",
       "max       1.000000  \n",
       "std       0.162178  "
      ]
     },
     "execution_count": 79,
     "metadata": {},
     "output_type": "execute_result"
    }
   ],
   "source": [
    "df2 .describe()"
   ]
  },
  {
   "cell_type": "code",
   "execution_count": 90,
   "id": "61adbdfe-69bd-4255-924a-b1ad972f5750",
   "metadata": {
    "editable": true,
    "slideshow": {
     "slide_type": ""
    },
    "tags": []
   },
   "outputs": [
    {
     "data": {
      "image/png": "[encoded data removed]",
      "text/plain": [
       "<Figure size 2000x800 with 20 Axes>"
      ]
     },
     "metadata": {},
     "output_type": "display_data"
    }
   ],
   "source": [
    "g = sns.FacetGrid(df2, col=\"Year\",col_wrap=5 , height=2,aspect=2)\n",
    "g.map(sns.histplot,\"ret\", binwidth=.5, binrange=(-3.5,3.5))\n",
    "\n",
    "# alt vrs of above 2 rows\n",
    "# g = sns.displot(data=df2,x='ret',col='Year',col_wrap=5, binwidth=.5, binrange=(-3.5,3.5), height=2,aspect=2)\n",
    "\n",
    "for ax in g.axes.flatten():\n",
    "    \n",
    "    ax.set_xticks([-3, -2, -1, 0, 1, 2, 3])\n",
    "    ax.set_xticklabels([-3, -2, -1, 0, 1, 2, 3])\n",
    "    \n",
    "    title = ax.get_title()\n",
    "    ax.set_title(title[-4:], fontweight='bold')\n",
    "    ax.set_xlabel(\"\")\n",
    "    \n",
    "    for bar in ax.patches:\n",
    "        if abs(bar.get_center()[0] ) >= 3:\n",
    "            bar.set_facecolor('red')  # Change color to red\n"
   ]
  },
  {
   "cell_type": "code",
   "execution_count": null,
   "id": "a10f9d05-368f-4a20-b3fa-fe7ce3fd6261",
   "metadata": {
    "editable": true,
    "slideshow": {
     "slide_type": ""
    },
    "tags": []
   },
   "outputs": [],
   "source": []
  },
  {
   "cell_type": "code",
   "execution_count": null,
   "id": "078204f0-9663-4237-a2b9-111e4a5cdccd",
   "metadata": {
    "editable": true,
    "slideshow": {
     "slide_type": ""
    },
    "tags": []
   },
   "outputs": [],
   "source": []
  },
  {
   "cell_type": "code",
   "execution_count": 11,
   "id": "6bc697ad-e79c-42b7-b283-20281abc9dc4",
   "metadata": {
    "editable": true,
    "slideshow": {
     "slide_type": ""
    },
    "tags": []
   },
   "outputs": [
    {
     "data": {
      "text/html": [
       "<div>\n",
       "<style scoped>\n",
       "    .dataframe tbody tr th:only-of-type {\n",
       "        vertical-align: middle;\n",
       "    }\n",
       "\n",
       "    .dataframe tbody tr th {\n",
       "        vertical-align: top;\n",
       "    }\n",
       "\n",
       "    .dataframe thead th {\n",
       "        text-align: right;\n",
       "    }\n",
       "</style>\n",
       "<table border=\"1\" class=\"dataframe\">\n",
       "  <thead>\n",
       "    <tr style=\"text-align: right;\">\n",
       "      <th></th>\n",
       "      <th>Firm</th>\n",
       "      <th>year</th>\n",
       "      <th>alpha</th>\n",
       "      <th>beta</th>\n",
       "    </tr>\n",
       "  </thead>\n",
       "  <tbody>\n",
       "    <tr>\n",
       "      <th>0</th>\n",
       "      <td>AAPL</td>\n",
       "      <td>2016</td>\n",
       "      <td>-0.001081</td>\n",
       "      <td>0.965623</td>\n",
       "    </tr>\n",
       "    <tr>\n",
       "      <th>1</th>\n",
       "      <td>MSFT</td>\n",
       "      <td>2016</td>\n",
       "      <td>0.000690</td>\n",
       "      <td>1.166076</td>\n",
       "    </tr>\n",
       "    <tr>\n",
       "      <th>2</th>\n",
       "      <td>SBUX</td>\n",
       "      <td>2016</td>\n",
       "      <td>-0.056862</td>\n",
       "      <td>0.848163</td>\n",
       "    </tr>\n",
       "  </tbody>\n",
       "</table>\n",
       "</div>"
      ],
      "text/plain": [
       "   Firm  year     alpha      beta\n",
       "0  AAPL  2016 -0.001081  0.965623\n",
       "1  MSFT  2016  0.000690  1.166076\n",
       "2  SBUX  2016 -0.056862  0.848163"
      ]
     },
     "execution_count": 11,
     "metadata": {},
     "output_type": "execute_result"
    }
   ],
   "source": [
    "(\n",
    "    assets_and_factors # grab the data\n",
    "    \n",
    "    # Two things before the regressions:\n",
    "    # 1. need a year variable (to group on)\n",
    "    # 2. the market returns in FF are excess returns, so \n",
    "    #    our stock returns need to be excess as well\n",
    "    .assign(year = assets_and_factors.Date.dt.year,\n",
    "            ret_excess = assets_and_factors.ret - assets_and_factors.RF)\n",
    "    \n",
    "    # ok, run the regs, so easy!\n",
    "    .groupby(['Firm','year']).apply(reg_in_groupby,formula='ret_excess ~ mkt_excess')\n",
    "    \n",
    "    # and clean up - with better var names\n",
    "    .rename(columns={'Intercept':'alpha','mkt_excess':'beta'})\n",
    "    .reset_index()\n",
    ")"
   ]
  },
  {
   "cell_type": "code",
   "execution_count": null,
   "id": "15c980fa-8fac-49c2-8fc0-e05381ec4793",
   "metadata": {},
   "outputs": [],
   "source": []
  }
 ],
 "metadata": {
  "kernelspec": {
   "display_name": "Python 3 (ipykernel)",
   "language": "python",
   "name": "python3"
  },
  "language_info": {
   "codemirror_mode": {
    "name": "ipython",
    "version": 3
   },
   "file_extension": ".py",
   "mimetype": "text/x-python",
   "name": "python",
   "nbconvert_exporter": "python",
   "pygments_lexer": "ipython3",
   "version": "3.11.5"
  }
 },
 "nbformat": 4,
 "nbformat_minor": 5
}

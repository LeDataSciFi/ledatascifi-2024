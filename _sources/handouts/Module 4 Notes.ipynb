{
 "cells": [
  {
   "cell_type": "markdown",
   "id": "a535edfb-ecd9-45d5-98e2-e15cb6c2101d",
   "metadata": {
    "tags": []
   },
   "source": [
    "# Module 4 - Prediction Models and Data Analysis\n",
    "\n",
    "_My suggested use for this file is as an extra tab you keep open on the right side of your JupyterLab screen, and treat it like a notepad you'd use in a classroom. The left half of the screen will be good for files that have involved coding that should be stand alone files._\n",
    "\n",
    "## Skills AND CONCEPTS to learn in this Module \n",
    "\n",
    "You can find the tasks for this module [on the dashboard page]. \n",
    "\n",
    "Below are the key skills and concepts I want you to learn in this module in _roughly_ the order we will cover them. \n",
    "\n",
    "_**Note: This list is the key stuff, but not everything. We are scraping the surface **_\n",
    "- [ ] Modeling\n",
    "    - [ ] explore the modeling process\n",
    "    - [ ] determine appropriate models to use based on modeling objectives\n",
    "- [ ] Regression\n",
    "    - [ ] learn basic notation and terminology for regression models\n",
    "    - [ ] fit a regression with `statsmodels` and/or `sklearn`\n",
    "    - [ ] interpret mechanical meanings of coefficients for different variable types\n",
    "    - [ ] measure goodness of fit on a regression\n",
    "    - [ ] what does statistical significance tell us and not tell us\n",
    "- [ ] `sklearn` and Machine Learning\n",
    "    - [ ] understand objectives and development process of machine learning models\n",
    "    - [ ] you evaluate models using \"scoring metrics\"\n",
    "    - [ ] develop your intuition about how to select which metric fits a given problem\n",
    "    - [ ] understand mechanics of fitting models \n",
    "    - [ ] best practices for training ML models without leakage"
   ]
  },
  {
   "cell_type": "markdown",
   "id": "c1d54e07-35a9-445b-95b8-6ff57f1a779d",
   "metadata": {
    "tags": []
   },
   "source": [
    "## Modeling Notes"
   ]
  },
  {
   "cell_type": "code",
   "execution_count": null,
   "id": "ecefd480-e0a1-41e8-8fd5-ddc9457cd102",
   "metadata": {},
   "outputs": [],
   "source": [
    "put your notes here"
   ]
  },
  {
   "cell_type": "markdown",
   "id": "2230a1ae-8ecd-4e48-b82f-aeb490b70e0b",
   "metadata": {},
   "source": [
    "## Regression Notes"
   ]
  },
  {
   "cell_type": "code",
   "execution_count": null,
   "id": "fd26955c-7f78-4aa5-9f8c-e6aa4d3a8583",
   "metadata": {},
   "outputs": [],
   "source": [
    "put your notes here"
   ]
  },
  {
   "cell_type": "markdown",
   "id": "9610860f-b6d2-4d65-99b2-e9b2a9e1dbb0",
   "metadata": {
    "tags": []
   },
   "source": [
    "## Machine Learning Notes"
   ]
  },
  {
   "cell_type": "code",
   "execution_count": null,
   "id": "0045599c-a5c9-4aee-a177-ffed01f525c7",
   "metadata": {},
   "outputs": [],
   "source": [
    "put your notes here"
   ]
  }
 ],
 "metadata": {
  "kernelspec": {
   "display_name": "Python 3 (ipykernel)",
   "language": "python",
   "name": "python3"
  },
  "language_info": {
   "codemirror_mode": {
    "name": "ipython",
    "version": 3
   },
   "file_extension": ".py",
   "mimetype": "text/x-python",
   "name": "python",
   "nbconvert_exporter": "python",
   "pygments_lexer": "ipython3",
   "version": "3.8.13"
  }
 },
 "nbformat": 4,
 "nbformat_minor": 5
}

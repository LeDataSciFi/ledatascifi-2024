{
 "cells": [
  {
   "cell_type": "markdown",
   "metadata": {},
   "source": [
    "# THIS FILE IS IN THE HANDOUTS FOLDER. COPY IT INTO YOUR CLASS NOTES\n",
    "\n",
    "- [**Read the chapter on the website!**](https://ledatascifi.github.io/ledatascifi-2024/content/05/02_reg.html) It contains a lot of extra information we won't cover in class extensively.\n",
    "- After reading that, I recommend [this webpage as a complimentary place to get additional intuition.](https://aeturrell.github.io/coding-for-economists/econmt-regression.html)\n",
    "\n",
    "## Today\n",
    "\n",
    "[Finish picking teams and declare initial project interests in the project sheet](https://docs.google.com/spreadsheets/d/1SMetWKgI3JdhFdBwihDgIY3BDubvihkJCWbgLcCe4fs/edit?usp=sharing)\n"
   ]
  },
  {
   "cell_type": "markdown",
   "metadata": {},
   "source": [
    "# Today is mostly about INTERPRETING COEFFICIENTS (6.4 in the book)\n",
    "\n",
    "1. 25 min reading groups: Talk/read through two regression pages (6.3 and 6.4) \n",
    "    - Assemble your own notes. Perhaps in the \"Module 4 notes\" file, but you can do this in any file you want.\n",
    "    - After class, each group will email their notes to the TA/me for participation. (Effort grading.)\n",
    "1. 10 min: class builds joint \"big takeaways and nuanced observations\" \n",
    "1. 5 min: Interpret models 1-2 as class as practice. \n",
    "1. 20 min reading groups: Work through remaining problems below.\n",
    "1. 10 min: wrap up  \n",
    "\n",
    "---"
   ]
  },
  {
   "cell_type": "code",
   "execution_count": 1,
   "metadata": {},
   "outputs": [],
   "source": [
    "import pandas as pd\n",
    "from statsmodels.formula.api import ols as sm_ols\n",
    "import numpy as np\n",
    "import seaborn as sns\n",
    "from statsmodels.iolib.summary2 import summary_col # nicer tables\n"
   ]
  },
  {
   "cell_type": "code",
   "execution_count": 2,
   "metadata": {},
   "outputs": [],
   "source": [
    "url = 'https://github.com/LeDataSciFi/ledatascifi-2024/blob/main/data/Fannie_Mae_Plus_Data.gzip?raw=true'\n",
    "fannie_mae = pd.read_csv(url,compression='gzip') "
   ]
  },
  {
   "cell_type": "markdown",
   "metadata": {},
   "source": [
    "## Clean the data and create variables you want"
   ]
  },
  {
   "cell_type": "code",
   "execution_count": 3,
   "metadata": {},
   "outputs": [],
   "source": [
    "fannie_mae = (fannie_mae\n",
    "                  # create variables\n",
    "                  .assign(l_credscore = np.log(fannie_mae['Borrower_Credit_Score_at_Origination']),\n",
    "                          l_LTV = np.log(fannie_mae['Original_LTV_(OLTV)']),\n",
    "                          l_int = np.log(fannie_mae['Original_Interest_Rate']),\n",
    "                          Origination_Date = lambda x: pd.to_datetime(x['Origination_Date']),\n",
    "                          Origination_Year = lambda x: x['Origination_Date'].dt.year,\n",
    "                          const = 1\n",
    "                         )\n",
    "                  .rename(columns={'Original_Interest_Rate':'int'}) # shorter name will help the table formatting\n",
    "             )\n",
    "\n",
    "# create a categorical credit bin var with \"pd.cut()\"\n",
    "fannie_mae['creditbins']= pd.cut(fannie_mae['Co-borrower_credit_score_at_origination'],\n",
    "                                 [0,579,669,739,799,850],\n",
    "                                 labels=['Very Poor','Fair','Good','Very Good','Exceptional'])\n"
   ]
  },
  {
   "cell_type": "markdown",
   "metadata": {},
   "source": [
    "## Statsmodels\n",
    "\n",
    "As before, the psuedocode:\n",
    "```python\n",
    "model = sm_ols(<formula>, data=<dataframe>)\n",
    "result=model.fit()\n",
    "\n",
    "# you use result to print summary, get predicted values (.predict) or residuals (.resid)\n",
    "```\n",
    "\n",
    "Now, let's save each regression's result with a different name, and below this, output them all in one nice table:"
   ]
  },
  {
   "cell_type": "code",
   "execution_count": 4,
   "metadata": {},
   "outputs": [],
   "source": [
    "# one var: 'y ~ x' means fit y = a + b*X\n",
    "\n",
    "reg1 = sm_ols('int ~  Borrower_Credit_Score_at_Origination ', data=fannie_mae).fit()\n",
    "\n",
    "reg1b= sm_ols('int ~  l_credscore  ',  data=fannie_mae).fit()\n",
    "\n",
    "reg1c= sm_ols('l_int ~  Borrower_Credit_Score_at_Origination  ',  data=fannie_mae).fit()\n",
    "\n",
    "reg1d= sm_ols('l_int ~  l_credscore  ',  data=fannie_mae).fit()\n",
    "\n",
    "# multiple variables: just add them to the formula\n",
    "# 'y ~ x1 + x2' means fit y = a + b*x1 + c*x2\n",
    "reg2 = sm_ols('int ~  l_credscore + l_LTV ',  data=fannie_mae).fit()\n",
    "\n",
    "# interaction terms: Just use *\n",
    "# Note: always include each variable separately too! (not just x1*x2, but x1+x2+x1*x2)\n",
    "reg3 = sm_ols('int ~  l_credscore + l_LTV + l_credscore*l_LTV',  data=fannie_mae).fit()\n",
    "      \n",
    "# categorical dummies: C() \n",
    "reg4 = sm_ols('int ~  C(creditbins)  ',  data=fannie_mae).fit()\n",
    "\n",
    "reg5 = sm_ols('int ~  C(creditbins)  -1', data=fannie_mae).fit()\n"
   ]
  },
  {
   "cell_type": "markdown",
   "metadata": {},
   "source": [
    "Ok, time to output them:"
   ]
  },
  {
   "cell_type": "code",
   "execution_count": 5,
   "metadata": {},
   "outputs": [
    {
     "name": "stdout",
     "output_type": "stream",
     "text": [
      "============================================================================================================\n",
      "                  y = interest rate if not specified, log(interest rate else)\n",
      "\n",
      "============================================================================================================\n",
      "                                        1        2      3 (log) 4 (log)     5         6        7        8   \n",
      "------------------------------------------------------------------------------------------------------------\n",
      "Intercept                            11.58*** 45.37*** 2.87***  9.50***  44.13*** -16.81*** 6.65***         \n",
      "                                     (0.05)   (0.29)   (0.01)   (0.06)   (0.30)   (4.11)    (0.08)          \n",
      "Borrower_Credit_Score_at_Origination -0.01***          -0.00***                                             \n",
      "                                     (0.00)            (0.00)                                               \n",
      "l_credscore                                   -6.07***          -1.19*** -5.99*** 3.22***                   \n",
      "                                              (0.04)            (0.01)   (0.04)   (0.62)                    \n",
      "l_LTV                                                                    0.15***  14.61***                  \n",
      "                                                                         (0.01)   (0.97)                    \n",
      "l_credscore:l_LTV                                                                 -2.18***                  \n",
      "                                                                                  (0.15)                    \n",
      "C(creditbins)[Very Poor]                                                                             6.65***\n",
      "                                                                                                     (0.08) \n",
      "C(creditbins)[Fair]                                                                         -0.63*** 6.02***\n",
      "                                                                                            (0.08)   (0.02) \n",
      "C(creditbins)[Good]                                                                         -1.17*** 5.48***\n",
      "                                                                                            (0.08)   (0.01) \n",
      "C(creditbins)[Exceptional]                                                                  -2.25*** 4.40***\n",
      "                                                                                            (0.08)   (0.01) \n",
      "C(creditbins)[Very Good]                                                                    -1.65*** 5.00***\n",
      "                                                                                            (0.08)   (0.01) \n",
      "R-squared                            0.13     0.12     0.13     0.12     0.13     0.13      0.11     0.11   \n",
      "R-squared Adj.                       0.13     0.12     0.13     0.12     0.13     0.13      0.11     0.11   \n",
      "R-squared                            0.13     0.12     0.13     0.12     0.13     0.13      0.11     0.11   \n",
      "Adj R-squared                        0.13     0.12     0.13     0.12     0.13     0.13      0.11     0.11   \n",
      "No. observations                     134481   134481   134481   134481   134481   134481    67366    67366  \n",
      "============================================================================================================\n",
      "Standard errors in parentheses.\n",
      "* p<.1, ** p<.05, ***p<.01\n"
     ]
    }
   ],
   "source": [
    "# now I'll format an output table\n",
    "# I'd like to include extra info in the table (not just coefficients)\n",
    "info_dict={'R-squared' : lambda x: f\"{x.rsquared:.2f}\",\n",
    "           'Adj R-squared' : lambda x: f\"{x.rsquared_adj:.2f}\",\n",
    "           'No. observations' : lambda x: f\"{int(x.nobs):d}\"}\n",
    "\n",
    "# q4b1 and q4b2 name the dummies differently in the table, so this is a silly fix\n",
    "reg4.model.exog_names[1:] = reg5.model.exog_names[1:]  \n",
    "\n",
    "# This summary col function combines a bunch of regressions into one nice table\n",
    "print('='*108)\n",
    "print('                  y = interest rate if not specified, log(interest rate else)')\n",
    "print(summary_col(results=[reg1,reg1b,reg1c,reg1d,reg2,reg3,reg4,reg5], # list the result obj here\n",
    "                  float_format='%0.2f',\n",
    "                  stars = True, # stars are easy way to see if anything is statistically significant\n",
    "                  model_names=['1','2',' 3 (log)','4 (log)','5','6','7','8'], # these are bad names, lol. Usually, just use the y variable name\n",
    "                  info_dict=info_dict,\n",
    "                  regressor_order=[ 'Intercept','Borrower_Credit_Score_at_Origination','l_credscore','l_LTV','l_credscore:l_LTV',\n",
    "                                  'C(creditbins)[Very Poor]','C(creditbins)[Fair]','C(creditbins)[Good]','C(creditbins)[Vrey Good]','C(creditbins)[Exceptional]']\n",
    "                  )\n",
    "     )"
   ]
  },
  {
   "cell_type": "markdown",
   "metadata": {},
   "source": [
    "# Today. Work in groups. Refer to the lectures. \n",
    "\n",
    "You might need to print out a few individual regressions with more decimals.\n",
    "\n",
    "1. Interpret coefs in model 1-4\n",
    "1. Interpret coefs in model 5\n",
    "1. Interpret coefs in model 6 (and visually?)\n",
    "1. Interpret coefs in model 7 (and visually? + comp to table)\n",
    "1. Interpret coefs in model 8 (and visually? + comp to table)\n",
    "1. Add l_LTV  to Model 8 and interpret (and visually?)\n",
    "\n",
    "\n",
    "\n"
   ]
  }
 ],
 "metadata": {
  "kernelspec": {
   "display_name": "Python 3 (ipykernel)",
   "language": "python",
   "name": "python3"
  },
  "language_info": {
   "codemirror_mode": {
    "name": "ipython",
    "version": 3
   },
   "file_extension": ".py",
   "mimetype": "text/x-python",
   "name": "python",
   "nbconvert_exporter": "python",
   "pygments_lexer": "ipython3",
   "version": "3.8.16"
  }
 },
 "nbformat": 4,
 "nbformat_minor": 4
}

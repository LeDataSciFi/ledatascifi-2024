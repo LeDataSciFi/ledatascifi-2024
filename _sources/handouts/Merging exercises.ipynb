{
 "cells": [
  {
   "cell_type": "markdown",
   "id": "5961187a-179f-4690-a89e-a0fd9178229c",
   "metadata": {
    "slideshow": {
     "slide_type": "subslide"
    }
   },
   "source": [
    "# The merge function\n"
   ]
  },
  {
   "cell_type": "code",
   "execution_count": null,
   "id": "3c5a0a2b-83e2-40e8-8ee5-3d08729e0a71",
   "metadata": {
    "slideshow": {
     "slide_type": "subslide"
    }
   },
   "outputs": [],
   "source": [
    "import pandas as pd\n",
    "\n",
    "left_df = pd.DataFrame({\n",
    "                    'firm': ['Accenture','Citi','GS'],\n",
    "                    'varA': ['A1', 'A2', 'A3']})\n",
    "\n",
    "right_df = pd.DataFrame({\n",
    "                    'firm': ['GS','Chase','WF'],\n",
    "                    'varB': ['B1', 'B2', 'B3'],\n",
    "                    'varc': ['C1', 'C2', 'C3']})    \n"
   ]
  },
  {
   "cell_type": "markdown",
   "id": "4c306a2a-2f72-4e45-8fa5-5f8e3d8223ac",
   "metadata": {
    "slideshow": {
     "slide_type": "subslide"
    }
   },
   "source": [
    "Let use shift+tab to talk about the parameters.\n",
    "\n",
    "Put your cursor in the merge function below and hit shift tab"
   ]
  },
  {
   "cell_type": "code",
   "execution_count": null,
   "id": "35952858-57ae-49c5-b4f8-b3e45bca03e7",
   "metadata": {},
   "outputs": [],
   "source": [
    "left_df.merge("
   ]
  },
  {
   "cell_type": "markdown",
   "id": "10271af4-5450-4f79-bde3-f85893adef92",
   "metadata": {},
   "source": [
    "The main parameters:\n",
    "- right\n",
    "- how\n",
    "- on and its variants \n",
    "- indicator \n",
    "- validate "
   ]
  },
  {
   "cell_type": "markdown",
   "id": "098432e6-4963-42fd-9a84-635b99bdea8f",
   "metadata": {},
   "source": [
    "## Part 1\n",
    "\n",
    "_Prof: Leave the \"how\" slide on the board_\n",
    "\n",
    "Some work with the mechanics:\n",
    "\n",
    "- Q0 Merge both datasets above with each possible value of `how`. How many observations result from each of the four merges?"
   ]
  },
  {
   "cell_type": "code",
   "execution_count": null,
   "id": "3ce81707-68ae-4cfb-95dc-655f1c1edadd",
   "metadata": {},
   "outputs": [],
   "source": []
  },
  {
   "cell_type": "markdown",
   "id": "722ac99d-29fb-4d68-a73f-a5989da691f1",
   "metadata": {},
   "source": [
    "- Q1 Compare `left_df.merge(right_df)` and `pd.merge(left_df, right_df)`. Are they the same or different? What do we learn from this?"
   ]
  },
  {
   "cell_type": "code",
   "execution_count": null,
   "id": "117e1595-3e2c-4179-a6b7-85b239631587",
   "metadata": {},
   "outputs": [],
   "source": []
  },
  {
   "cell_type": "markdown",
   "id": "fa4642d4-4253-42ac-9660-52a918bf4ad2",
   "metadata": {},
   "source": [
    "- Q2 Successfully do an outer merge between `left_df` and `ChosenOne`. Then try to do an outer merge between `left_df` and `CurryForThree` (both are defined below)"
   ]
  },
  {
   "cell_type": "code",
   "execution_count": null,
   "id": "dcdc80df-b05e-4124-9c79-8e0c514d0d91",
   "metadata": {},
   "outputs": [],
   "source": []
  },
  {
   "cell_type": "markdown",
   "id": "5a708ec8-af8e-4f75-9dbf-bc8c1687e19d",
   "metadata": {},
   "source": [
    "- Q3 Do an outer merge with `left_df` and `right_df` and output the source of each observation by using the \"indicate\" option."
   ]
  },
  {
   "cell_type": "code",
   "execution_count": null,
   "id": "42bb6b1c-d568-44b9-b6d0-9bf80b834fc2",
   "metadata": {},
   "outputs": [],
   "source": []
  },
  {
   "cell_type": "markdown",
   "id": "901ce6a6-cb42-4170-96d7-cf54eb200ec9",
   "metadata": {},
   "source": [
    "- Q4 Repeat the outer merge we just did, but four times: try each possible value of \"validate\""
   ]
  },
  {
   "cell_type": "code",
   "execution_count": null,
   "id": "4dfee1ed-63d3-4d0e-9d8e-8ed08d4c33e1",
   "metadata": {},
   "outputs": [],
   "source": []
  },
  {
   "cell_type": "markdown",
   "id": "c4ad3440-9274-4992-9dc5-39c03c3fccf6",
   "metadata": {},
   "source": [
    "Now, let's add two more NBA themed datasets to the party: "
   ]
  },
  {
   "cell_type": "code",
   "execution_count": null,
   "id": "0d23a588-320b-4540-81bd-ca6b518a53e1",
   "metadata": {},
   "outputs": [],
   "source": [
    "ChosenOne = pd.DataFrame({\n",
    "                    'tic': ['GS','GS','GS'],\n",
    "                    'varB': ['B1', 'B2', 'B3'],\n",
    "                    'varc': ['C1', 'C2', 'C3']})    \n",
    "\n",
    "CurryForThree = pd.DataFrame({\n",
    "                    'var1': ['GS','GS','GS'],\n",
    "                    'varD': ['D1', 'D2', 'D3'],\n",
    "                    'varE': ['E1', 'E2', 'E3']}).set_index('var1')"
   ]
  },
  {
   "cell_type": "markdown",
   "id": "ae768bc0-818f-466d-bf2c-45095ddade0e",
   "metadata": {},
   "source": [
    "## Part 2\n",
    "\n",
    "- Q5: [Guess what category of join](https://ledatascifi.github.io/ledatascifi-2024/content/03/05b_merging.html#categories-of-joins) each of the following merges are?  \n",
    "    1. `left_df` and `right_df` (you already know from Q4)\n",
    "    1. `left_df` and `ChosenOne`\n",
    "    1. `CurryForThree` and `left_df`\n",
    "    1. `ChosenOne` and `CurryForThree`"
   ]
  },
  {
   "cell_type": "code",
   "execution_count": null,
   "id": "3a8e9bfc-1066-4795-a82b-701eb722f52e",
   "metadata": {},
   "outputs": [],
   "source": []
  },
  {
   "cell_type": "markdown",
   "id": "1da1aab4-aa7d-4e66-9efa-795002e46021",
   "metadata": {},
   "source": [
    "- Q6: Do each of those four merge with `how='inner'` as an option. What is the length of each resulting dataframe?"
   ]
  },
  {
   "cell_type": "code",
   "execution_count": null,
   "id": "b96debd7-616b-4d53-a71f-41071254fe21",
   "metadata": {},
   "outputs": [],
   "source": []
  },
  {
   "cell_type": "markdown",
   "id": "119e2d9d-044c-4e09-a4e8-07925733606b",
   "metadata": {},
   "source": [
    "- Q7: Do an outer merge of `left_df` and `ChosenOne`. How many observations are in the resulting data, and why is it different than we foudn in Q6?"
   ]
  },
  {
   "cell_type": "code",
   "execution_count": null,
   "id": "188d41d5-f2ee-4379-9f7a-7d9191314325",
   "metadata": {},
   "outputs": [],
   "source": []
  },
  {
   "cell_type": "markdown",
   "id": "6d751616-4230-4190-b5c0-1eb990d4dd2b",
   "metadata": {},
   "source": [
    "- Q8: Merge these next two datasets with `how='inner'` as an option. What s the length of the resulting dataframe and do you think it's right?"
   ]
  },
  {
   "cell_type": "code",
   "execution_count": null,
   "id": "770fb7f1-f309-4ddd-8231-b0f91ded121a",
   "metadata": {},
   "outputs": [],
   "source": [
    "poppop = pd.DataFrame({\n",
    "                    'tic': ['TSLA','TSLA','GM'],\n",
    "                    'varB': ['2016', '2017', '2018'],\n",
    "                    'varc': ['C1', 'C2', 'C3']})    \n",
    "\n",
    "CurryForThree = pd.DataFrame({\n",
    "                    'var1': ['F','TSLA','TSLA'],\n",
    "                    'varD': ['2016', '2017', '2018'],\n",
    "                    'varE': ['E1', 'E2', 'E3']}).set_index('var1')"
   ]
  },
  {
   "cell_type": "code",
   "execution_count": null,
   "id": "a4be8cf6-e2d7-46ba-9f76-4787258f0fd2",
   "metadata": {},
   "outputs": [],
   "source": []
  },
  {
   "cell_type": "markdown",
   "id": "f2465bb9-331f-4ee7-80a5-c400a91c1b05",
   "metadata": {},
   "source": [
    "## Part 3 - Collecting tips\n",
    "\n",
    "You should, after class, collect tips about\n",
    "- The most common use of merging and safeguards you can use\n",
    "- When should you create variables - before or after a merge?\n",
    "- Best practices for merging\n",
    "\n"
   ]
  },
  {
   "cell_type": "markdown",
   "id": "304a47e6-e975-4b7f-ba4a-e8e5ace2960c",
   "metadata": {},
   "source": []
  }
 ],
 "metadata": {
  "kernelspec": {
   "display_name": "Python 3 (ipykernel)",
   "language": "python",
   "name": "python3"
  },
  "language_info": {
   "codemirror_mode": {
    "name": "ipython",
    "version": 3
   },
   "file_extension": ".py",
   "mimetype": "text/x-python",
   "name": "python",
   "nbconvert_exporter": "python",
   "pygments_lexer": "ipython3",
   "version": "3.8.16"
  }
 },
 "nbformat": 4,
 "nbformat_minor": 5
}

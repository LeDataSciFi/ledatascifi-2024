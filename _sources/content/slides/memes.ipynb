{
 "cells": [
  {
   "cell_type": "code",
   "execution_count": 1,
   "id": "a7271d17-8161-4ce0-9726-36587484053b",
   "metadata": {
    "editable": true,
    "slideshow": {
     "slide_type": ""
    },
    "tags": [
     "remove_input"
    ]
   },
   "outputs": [],
   "source": [
    "import requests\n",
    "\n",
    "class Tweet(object):\n",
    "    def __init__(self, s, embed_str=False):\n",
    "        if not embed_str:\n",
    "            # Use Twitter's oEmbed API\n",
    "            # https://dev.twitter.com/web/embedded-tweets\n",
    "            api = 'https://publish.twitter.com/oembed?url={}'.format(s)\n",
    "            response = requests.get(api)\n",
    "            self.text = response.json()[\"html\"]\n",
    "        else:\n",
    "            self.text = s\n",
    "\n",
    "    def _repr_html_(self):\n",
    "        return self.text"
   ]
  },
  {
   "cell_type": "markdown",
   "id": "4a4c7a70-a840-491b-b47e-9cec60133ecd",
   "metadata": {},
   "source": [
    "# Memes\n",
    "\n",
    "An unordered and living collection of things about this class.\n",
    "\n",
    "```{admonition} Add to this page!\n",
    ":class: tip\n",
    "\n",
    "If you see a joke you like, send it to me by email or via issue (click the GitHub logo above and then \"Open Issue\").\n",
    "```\n",
    "\n",
    "```{image} ./img/correl.png\n",
    ":alt: correlation\n",
    ":align: center\n",
    "```"
   ]
  },
  {
   "cell_type": "code",
   "execution_count": 2,
   "id": "d85b40d6-543b-4abf-90b9-8b8b186d105d",
   "metadata": {
    "tags": [
     "remove_input"
    ]
   },
   "outputs": [
    {
     "data": {
      "text/html": [
       "<blockquote class=\"twitter-tweet\"><p lang=\"en\" dir=\"ltr\">never take advice. if the person is alive then it&#39;s technically survivorship bias</p>&mdash; physicist (@FinitePhysicist) <a href=\"https://twitter.com/FinitePhysicist/status/1561353336191963138?ref_src=twsrc%5Etfw\">August 21, 2022</a></blockquote>\n",
       "<script async src=\"https://platform.twitter.com/widgets.js\" charset=\"utf-8\"></script>\n"
      ],
      "text/plain": [
       "<__main__.Tweet at 0x25934074820>"
      ]
     },
     "execution_count": 2,
     "metadata": {},
     "output_type": "execute_result"
    }
   ],
   "source": [
    "Tweet(\"https://twitter.com/FinitePhysicist/status/1561353336191963138?s=20&t=iBmc_Z5r1dfksVnM_rstGQ\")"
   ]
  },
  {
   "cell_type": "code",
   "execution_count": 2,
   "id": "7601ff72",
   "metadata": {
    "tags": [
     "remove-input"
    ]
   },
   "outputs": [
    {
     "data": {
      "text/html": [
       "<blockquote class=\"twitter-tweet\"><p lang=\"en\" dir=\"ltr\">Thank goodness that we finally retired IE! <a href=\"https://t.co/xYl9MLqghc\">pic.twitter.com/xYl9MLqghc</a></p>&mdash; Bojan Tunguz (@tunguz) <a href=\"https://twitter.com/tunguz/status/1770167116442059135?ref_src=twsrc%5Etfw\">March 19, 2024</a></blockquote>\n",
       "<script async src=\"https://platform.twitter.com/widgets.js\" charset=\"utf-8\"></script>\n",
       "\n"
      ],
      "text/plain": [
       "<__main__.Tweet at 0x2b277d13810>"
      ]
     },
     "execution_count": 2,
     "metadata": {},
     "output_type": "execute_result"
    }
   ],
   "source": [
    "Tweet(\"https://twitter.com/tunguz/status/1770167116442059135?s=51\")"
   ]
  },
  {
   "cell_type": "code",
   "execution_count": 2,
   "id": "5227aa2a-8530-4121-859a-ec004db7f750",
   "metadata": {
    "editable": true,
    "slideshow": {
     "slide_type": ""
    },
    "tags": [
     "remove_input"
    ]
   },
   "outputs": [
    {
     "data": {
      "text/html": [
       "<blockquote class=\"twitter-tweet\"><p lang=\"en\" dir=\"ltr\">“He trained on the test set” <a href=\"https://t.co/pwymBcV7aQ\">pic.twitter.com/pwymBcV7aQ</a></p>&mdash; anton (@abacaj) <a href=\"https://twitter.com/abacaj/status/1744886152555839760?ref_src=twsrc%5Etfw\">January 10, 2024</a></blockquote>\n",
       "<script async src=\"https://platform.twitter.com/widgets.js\" charset=\"utf-8\"></script>\n",
       "\n"
      ],
      "text/plain": [
       "<__main__.Tweet at 0x1b7a8dc5390>"
      ]
     },
     "execution_count": 2,
     "metadata": {},
     "output_type": "execute_result"
    }
   ],
   "source": [
    "Tweet(\"https://twitter.com/khoavuumn/status/1744886152555839760\")"
   ]
  },
  {
   "cell_type": "code",
   "execution_count": 7,
   "id": "5bb605d0-b404-4c7b-b588-d3985c81de64",
   "metadata": {
    "editable": true,
    "slideshow": {
     "slide_type": ""
    },
    "tags": [
     "remove_input"
    ]
   },
   "outputs": [
    {
     "data": {
      "text/html": [
       "<blockquote class=\"twitter-tweet\"><p lang=\"en\" dir=\"ltr\">Your daily bias-variance tradeoff tweet. <a href=\"https://t.co/WIRg6sH0e9\">https://t.co/WIRg6sH0e9</a></p>&mdash; Khoa Vu (@KhoaVuUmn) <a href=\"https://twitter.com/KhoaVuUmn/status/1566883308683907074?ref_src=twsrc%5Etfw\">September 5, 2022</a></blockquote>\n",
       "<script async src=\"https://platform.twitter.com/widgets.js\" charset=\"utf-8\"></script>\n"
      ],
      "text/plain": [
       "<__main__.Tweet at 0x26e0f2d9070>"
      ]
     },
     "execution_count": 7,
     "metadata": {},
     "output_type": "execute_result"
    }
   ],
   "source": [
    "Tweet(\"https://twitter.com/khoavuumn/status/1566883308683907074\")"
   ]
  },
  {
   "cell_type": "code",
   "execution_count": 3,
   "id": "191ea189-57b3-4711-911a-15ba0b9bb3cf",
   "metadata": {
    "tags": [
     "remove_input"
    ]
   },
   "outputs": [
    {
     "data": {
      "text/html": [
       "<blockquote class=\"twitter-tweet\"><p lang=\"en\" dir=\"ltr\">artificial intelligence is taking over <a href=\"https://t.co/rvFdNa0nqt\">pic.twitter.com/rvFdNa0nqt</a></p>&mdash; memes.xlsx (@ExcelHumor) <a href=\"https://twitter.com/ExcelHumor/status/1558965529506889728?ref_src=twsrc%5Etfw\">August 14, 2022</a></blockquote>\n",
       "<script async src=\"https://platform.twitter.com/widgets.js\" charset=\"utf-8\"></script>\n"
      ],
      "text/plain": [
       "<__main__.Tweet at 0x25934074dc0>"
      ]
     },
     "execution_count": 3,
     "metadata": {},
     "output_type": "execute_result"
    }
   ],
   "source": [
    "Tweet(\"https://twitter.com/ExcelHumor/status/1558965529506889728?s=20&t=edv_FwAuuQD_xq91UQnQiQ\")"
   ]
  },
  {
   "cell_type": "code",
   "execution_count": 2,
   "id": "80ac6955-3099-4146-afb4-903d264ab276",
   "metadata": {
    "tags": [
     "remove_input"
    ]
   },
   "outputs": [
    {
     "data": {
      "text/html": [
       "<blockquote class=\"twitter-tweet\"><p lang=\"en\" dir=\"ltr\">&quot;Ask a programmer to review ten lines of code, he’ll find ten issues. Ask him to do five hundred lines, and he’ll say it looks good.&quot; - Gene Kim, The DevOps Handbook.</p>&mdash; Luca Lanziani 🌍🔥 (@lucalanziani) <a href=\"https://twitter.com/lucalanziani/status/1564213853038182402?ref_src=twsrc%5Etfw\">August 29, 2022</a></blockquote>\n",
       "<script async src=\"https://platform.twitter.com/widgets.js\" charset=\"utf-8\"></script>\n"
      ],
      "text/plain": [
       "<__main__.Tweet at 0x26e0e9d4eb0>"
      ]
     },
     "execution_count": 2,
     "metadata": {},
     "output_type": "execute_result"
    }
   ],
   "source": [
    "Tweet(\"https://twitter.com/lucalanziani/status/1564213853038182402\")"
   ]
  },
  {
   "cell_type": "code",
   "execution_count": 4,
   "id": "8b19ab4d-f205-43e8-b318-116009bd289b",
   "metadata": {
    "editable": true,
    "slideshow": {
     "slide_type": ""
    },
    "tags": [
     "remove_input"
    ]
   },
   "outputs": [
    {
     "data": {
      "text/html": [
       "<blockquote class=\"twitter-tweet\"><p lang=\"en\" dir=\"ltr\">Still kinda wack that you can see two &quot;Data Analyst&quot; job postings and the first is like <br><br>&quot;Must be proficient in Excel&quot;<br><br>And the second is<br><br>&quot;We are seeking a world expert in Bayesian spatiotemporal mixed hierarchical models&quot;</p>&mdash; Tripp (@Tjdriii) <a href=\"https://twitter.com/Tjdriii/status/1558967233539411968?ref_src=twsrc%5Etfw\">August 15, 2022</a></blockquote>\n",
       "<script async src=\"https://platform.twitter.com/widgets.js\" charset=\"utf-8\"></script>\n"
      ],
      "text/plain": [
       "<__main__.Tweet at 0x259353cefa0>"
      ]
     },
     "execution_count": 4,
     "metadata": {},
     "output_type": "execute_result"
    }
   ],
   "source": [
    "Tweet(\"https://twitter.com/Tjdriii/status/1558967233539411968\")"
   ]
  },
  {
   "cell_type": "code",
   "execution_count": 5,
   "id": "0b0ac681-aecd-450e-99c9-6f7f577600dc",
   "metadata": {
    "editable": true,
    "slideshow": {
     "slide_type": ""
    },
    "tags": [
     "remove_input"
    ]
   },
   "outputs": [
    {
     "data": {
      "text/html": [
       "<blockquote class=\"twitter-tweet\"><p lang=\"en\" dir=\"ltr\">I think this one was my absolute favorite <a href=\"https://t.co/OfPXtYrrWn\">pic.twitter.com/OfPXtYrrWn</a></p>&mdash; Virginia Matzek (@v_matzek) <a href=\"https://twitter.com/v_matzek/status/1376959879882043395?ref_src=twsrc%5Etfw\">March 30, 2021</a></blockquote>\n",
       "<script async src=\"https://platform.twitter.com/widgets.js\" charset=\"utf-8\"></script>\n"
      ],
      "text/plain": [
       "<__main__.Tweet at 0x259353cee20>"
      ]
     },
     "execution_count": 5,
     "metadata": {},
     "output_type": "execute_result"
    }
   ],
   "source": [
    "Tweet(\"https://twitter.com/v_matzek/status/1376959879882043395\")"
   ]
  },
  {
   "cell_type": "code",
   "execution_count": 3,
   "id": "e7f9687b-cb47-41d3-a7e7-e7d9607aab48",
   "metadata": {
    "tags": [
     "remove_input"
    ]
   },
   "outputs": [
    {
     "data": {
      "text/html": [
       "<blockquote class=\"twitter-tweet\"><p lang=\"en\" dir=\"ltr\">You&#39;re doing data science all wrong.<br><br>Here are 5 tools every data scientist needs to be using, a 🧵:</p>&mdash; Senior PowerPoint Engineer (@ryxcommar) <a href=\"https://twitter.com/ryxcommar/status/1564026940348141568?ref_src=twsrc%5Etfw\">August 28, 2022</a></blockquote>\n",
       "<script async src=\"https://platform.twitter.com/widgets.js\" charset=\"utf-8\"></script>\n"
      ],
      "text/plain": [
       "<__main__.Tweet at 0x26e0b3aee80>"
      ]
     },
     "execution_count": 3,
     "metadata": {},
     "output_type": "execute_result"
    }
   ],
   "source": [
    "Tweet(\"https://twitter.com/ryxcommar/status/1564026940348141568\")"
   ]
  },
  {
   "cell_type": "markdown",
   "id": "65c52002-60cd-40e0-b260-b90430d358e5",
   "metadata": {},
   "source": [
    "The sequel:"
   ]
  },
  {
   "cell_type": "code",
   "execution_count": 4,
   "id": "4f57d7cc-62fc-4614-b7be-79543446876c",
   "metadata": {
    "tags": [
     "remove_input"
    ]
   },
   "outputs": [
    {
     "data": {
      "text/html": [
       "<blockquote class=\"twitter-tweet\"><p lang=\"en\" dir=\"ltr\">Spreadsheet software is good; this isn&#39;t a joke! Career-wise the most liberating feeling was when I had established myself as the guy you go to for Python and Pandas help; I went back to using Google Sheets for a lot of my work cuz nobody could say shit. <a href=\"https://t.co/HZHonQCMw2\">https://t.co/HZHonQCMw2</a></p>&mdash; Senior PowerPoint Engineer (@ryxcommar) <a href=\"https://twitter.com/ryxcommar/status/1564282933053104129?ref_src=twsrc%5Etfw\">August 29, 2022</a></blockquote>\n",
       "<script async src=\"https://platform.twitter.com/widgets.js\" charset=\"utf-8\"></script>\n"
      ],
      "text/plain": [
       "<__main__.Tweet at 0x26e0b3b1f40>"
      ]
     },
     "execution_count": 4,
     "metadata": {},
     "output_type": "execute_result"
    }
   ],
   "source": [
    "Tweet(\"https://twitter.com/ryxcommar/status/1564282933053104129\")"
   ]
  },
  {
   "cell_type": "code",
   "execution_count": 5,
   "id": "f941f31e-0130-4b72-ac9e-268f507bf9f9",
   "metadata": {
    "editable": true,
    "slideshow": {
     "slide_type": ""
    },
    "tags": [
     "remove_input"
    ]
   },
   "outputs": [
    {
     "data": {
      "text/html": [
       "<blockquote class=\"twitter-tweet\"><p lang=\"en\" dir=\"ltr\">If nothing else, my causal inference/research methods course has dank stats memes 🤷‍♂️ <a href=\"https://t.co/ZhKVKcNMpy\">pic.twitter.com/ZhKVKcNMpy</a></p>&mdash; A. Jordan Nafa (@adamjnafa) <a href=\"https://twitter.com/adamjnafa/status/1563762227345100800?ref_src=twsrc%5Etfw\">August 28, 2022</a></blockquote>\n",
       "<script async src=\"https://platform.twitter.com/widgets.js\" charset=\"utf-8\"></script>\n"
      ],
      "text/plain": [
       "<__main__.Tweet at 0x26e0b3e0430>"
      ]
     },
     "execution_count": 5,
     "metadata": {},
     "output_type": "execute_result"
    }
   ],
   "source": [
    "Tweet(\"https://twitter.com/adamjnafa/status/1563762227345100800\")"
   ]
  },
  {
   "cell_type": "markdown",
   "id": "ba2760cf-5c25-4908-93d7-5e15dd41d30f",
   "metadata": {
    "editable": true,
    "slideshow": {
     "slide_type": ""
    },
    "tags": []
   },
   "source": [
    "[Merge branch 'asdfasjkfdlas/alkdjf' into sdkjfls-final:](https://xkcd.com/1296/)\n",
    "\n",
    "![](img/git_commit.png)"
   ]
  },
  {
   "cell_type": "markdown",
   "id": "0fa1e684-3e11-45ec-81e4-68032241204b",
   "metadata": {
    "editable": true,
    "slideshow": {
     "slide_type": ""
    },
    "tags": []
   },
   "source": [
    "[According to my especially unsupervised K-means clustering algorithm, there are currently about 8 billion types of people in the world:](https://xkcd.com/2731/)\n",
    "\n",
    "![](img/k_means_clustering.png)"
   ]
  },
  {
   "cell_type": "code",
   "execution_count": 2,
   "id": "58920143-3a0a-418f-82d3-0e4f120cfacb",
   "metadata": {
    "editable": true,
    "slideshow": {
     "slide_type": ""
    },
    "tags": [
     "remove_input"
    ]
   },
   "outputs": [
    {
     "data": {
      "text/html": [
       "<blockquote class=\"twitter-tweet\"><p lang=\"en\" dir=\"ltr\">PhD course in applied econometrics be like<a href=\"https://t.co/HQHeeBRoFL\">pic.twitter.com/HQHeeBRoFL</a></p>&mdash; Khoa Vu (@KhoaVuUmn) <a href=\"https://twitter.com/KhoaVuUmn/status/1550556445803937795?ref_src=twsrc%5Etfw\">July 22, 2022</a></blockquote>\n",
       "<script async src=\"https://platform.twitter.com/widgets.js\" charset=\"utf-8\"></script>\n",
       "\n"
      ],
      "text/plain": [
       "<__main__.Tweet at 0x2d267d94250>"
      ]
     },
     "execution_count": 2,
     "metadata": {},
     "output_type": "execute_result"
    }
   ],
   "source": [
    "Tweet(\"https://twitter.com/khoavuumn/status/1550556445803937795?s=51\")"
   ]
  }
 ],
 "metadata": {
  "kernelspec": {
   "display_name": "Python 3 (ipykernel)",
   "language": "python",
   "name": "python3"
  },
  "language_info": {
   "codemirror_mode": {
    "name": "ipython",
    "version": 3
   },
   "file_extension": ".py",
   "mimetype": "text/x-python",
   "name": "python",
   "nbconvert_exporter": "python",
   "pygments_lexer": "ipython3",
   "version": "3.11.5"
  }
 },
 "nbformat": 4,
 "nbformat_minor": 5
}

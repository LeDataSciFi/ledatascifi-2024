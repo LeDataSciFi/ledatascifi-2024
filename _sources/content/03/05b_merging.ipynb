{
 "cells": [
  {
   "cell_type": "markdown",
   "metadata": {},
   "source": [
    "# Merging\n",
    "\n",
    "You've already merged datasets. But so far, our examples have been \"well-behaved\" so it was easy to just proceed. But real world datasets are messy (bad variable names, poor documentation) and big, and so merging isn't always as easy as \"just do it\".\n",
    "\n",
    "\n",
    "\n",
    "## Important parameters of `pd.merge()`\n",
    "\n",
    "Read through the [parameters of the function here](https://pandas.pydata.org/pandas-docs/stable/reference/api/pandas.DataFrame.merge.html). \n",
    "\n",
    "- `right = <df>`, `left = <df>` - name of your datasets\n",
    "- `on = <var>` or `on = [<var1>,<var2>,...]` - what variable(s) to use to match from the left and right datasets. These are your \"keys\". \n",
    "    - if the variable names aren't the same in both datasets (e.g. \"ID\" in one and \"identity\" in the other), use `left_on` and `right_on` instead of `on` to specify the names in each\n",
    "    - if the variables are the index variables, use `left_index = True` and/or `right_index = True` instead of `on`\n",
    "- `how` - what observations are in the resulting dataset, [see below](#how-left-v-right-v-inner-v-outer)\n",
    "- `suffix` - if a variable is in both datasets, how should we name each. \n",
    "    - **It's a good idea to always use this option and specify the source, because the default option makes uninformative variable names! **\n",
    "- `indicator=True` will create a variable saying which dataset the variable came from\n",
    "- `validate` = \"one_to_one\", \"one_to_many\", or \"many_to_one\". Will check if the merge is actually what you think it is. Useful!\n",
    "\n",
    "```{admonition} Be careful with the validate option \n",
    ":class: warning\n",
    "\n",
    "- Always use the \"smallest\" option you think is correct: If you're doing a 1:1, type \"one_to_one\"\n",
    "- Don't simply change it until the merge \"works\"! **Errors are good!** \n",
    "    - either you're merging \"wrong\" (picked the wrong \"on\" vars), \n",
    "    - or the data has problems (duplicates where there shouldn't be), \n",
    "    - or you misunderstand the data\n",
    "    - M:M can be dangerous\n",
    "- The \"many_to_many\" will _**always**_ work and is usually meaningless \n",
    "- NEVER USE THE MANY TO MANY OPTION (unless you're super sure it's correct for your application)\n",
    "\n",
    "```"
   ]
  },
  {
   "cell_type": "markdown",
   "metadata": {},
   "source": [
    "## Categories of joins\n",
    "\n",
    "An important concept in merging is about how the keys you're merging on are unique or not. You should be prepared that your merge might be:\n",
    "- **1:1**: The keys in each dataset are all unique\n",
    "- **1:M**: The keys in right dataset have some duplicates\n",
    "- **M:1**: The keys in left dataset have some duplicates \n",
    "- **M:M**: The keys in both datasets have some duplicates\n",
    "\n",
    "What the [pandas documentation](https://pandas.pydata.org/pandas-docs/stable/user_guide/merging.html#database-style-dataframe-or-named-series-joining-merging) says is:\n",
    "\n",
    "> In SQL / standard relational algebra, if a key combination appears more than once in [either or both] tables, the resulting table will have the Cartesian product of the associated data. \n",
    "\n",
    "That sounds complicated. What it means is: For a given row of data in the left dataset, we find all rows in the right dataset with the same key, and create that many rows in the merged dataset. \n",
    "\n",
    "Let me just show you what that means. I'll create two dataframes and merge them:\n"
   ]
  },
  {
   "cell_type": "code",
   "execution_count": 1,
   "metadata": {},
   "outputs": [
    {
     "data": {
      "text/html": [
       "<div>\n",
       "<style scoped>\n",
       "    .dataframe tbody tr th:only-of-type {\n",
       "        vertical-align: middle;\n",
       "    }\n",
       "\n",
       "    .dataframe tbody tr th {\n",
       "        vertical-align: top;\n",
       "    }\n",
       "\n",
       "    .dataframe thead th {\n",
       "        text-align: right;\n",
       "    }\n",
       "</style>\n",
       "<table border=\"1\" class=\"dataframe\">\n",
       "  <thead>\n",
       "    <tr style=\"text-align: right;\">\n",
       "      <th></th>\n",
       "      <th>firm</th>\n",
       "      <th>v1</th>\n",
       "    </tr>\n",
       "  </thead>\n",
       "  <tbody>\n",
       "    <tr>\n",
       "      <th>0</th>\n",
       "      <td>Citi</td>\n",
       "      <td>Alpha</td>\n",
       "    </tr>\n",
       "    <tr>\n",
       "      <th>1</th>\n",
       "      <td>Citi</td>\n",
       "      <td>Bravo</td>\n",
       "    </tr>\n",
       "  </tbody>\n",
       "</table>\n",
       "</div>"
      ],
      "text/plain": [
       "   firm     v1\n",
       "0  Citi  Alpha\n",
       "1  Citi  Bravo"
      ]
     },
     "metadata": {},
     "output_type": "display_data"
    }
   ],
   "source": [
    "import pandas as pd\n",
    "import numpy as np\n",
    "import matplotlib.pyplot as plt\n",
    "\n",
    "left_df = pd.DataFrame({\n",
    "                    'firm': ['Citi','Citi',],\n",
    "                    'v1': ['Alpha', 'Bravo']})\n",
    "display(left_df)"
   ]
  },
  {
   "cell_type": "code",
   "execution_count": 2,
   "metadata": {},
   "outputs": [
    {
     "data": {
      "text/html": [
       "<div>\n",
       "<style scoped>\n",
       "    .dataframe tbody tr th:only-of-type {\n",
       "        vertical-align: middle;\n",
       "    }\n",
       "\n",
       "    .dataframe tbody tr th {\n",
       "        vertical-align: top;\n",
       "    }\n",
       "\n",
       "    .dataframe thead th {\n",
       "        text-align: right;\n",
       "    }\n",
       "</style>\n",
       "<table border=\"1\" class=\"dataframe\">\n",
       "  <thead>\n",
       "    <tr style=\"text-align: right;\">\n",
       "      <th></th>\n",
       "      <th>firm</th>\n",
       "      <th>v2</th>\n",
       "    </tr>\n",
       "  </thead>\n",
       "  <tbody>\n",
       "    <tr>\n",
       "      <th>0</th>\n",
       "      <td>Citi</td>\n",
       "      <td>Charlie</td>\n",
       "    </tr>\n",
       "    <tr>\n",
       "      <th>1</th>\n",
       "      <td>Citi</td>\n",
       "      <td>Delta</td>\n",
       "    </tr>\n",
       "    <tr>\n",
       "      <th>2</th>\n",
       "      <td>WF</td>\n",
       "      <td>Echo</td>\n",
       "    </tr>\n",
       "  </tbody>\n",
       "</table>\n",
       "</div>"
      ],
      "text/plain": [
       "   firm       v2\n",
       "0  Citi  Charlie\n",
       "1  Citi    Delta\n",
       "2    WF     Echo"
      ]
     },
     "metadata": {},
     "output_type": "display_data"
    }
   ],
   "source": [
    "right_df = pd.DataFrame({\n",
    "                    'firm': ['Citi','Citi','WF'],\n",
    "                    'v2': ['Charlie','Delta','Echo']})    \n",
    "display(right_df)\n"
   ]
  },
  {
   "cell_type": "code",
   "execution_count": 3,
   "metadata": {},
   "outputs": [
    {
     "data": {
      "text/html": [
       "<div>\n",
       "<style scoped>\n",
       "    .dataframe tbody tr th:only-of-type {\n",
       "        vertical-align: middle;\n",
       "    }\n",
       "\n",
       "    .dataframe tbody tr th {\n",
       "        vertical-align: top;\n",
       "    }\n",
       "\n",
       "    .dataframe thead th {\n",
       "        text-align: right;\n",
       "    }\n",
       "</style>\n",
       "<table border=\"1\" class=\"dataframe\">\n",
       "  <thead>\n",
       "    <tr style=\"text-align: right;\">\n",
       "      <th></th>\n",
       "      <th>firm</th>\n",
       "      <th>v1</th>\n",
       "      <th>v2</th>\n",
       "    </tr>\n",
       "  </thead>\n",
       "  <tbody>\n",
       "    <tr>\n",
       "      <th>0</th>\n",
       "      <td>Citi</td>\n",
       "      <td>Alpha</td>\n",
       "      <td>Charlie</td>\n",
       "    </tr>\n",
       "    <tr>\n",
       "      <th>1</th>\n",
       "      <td>Citi</td>\n",
       "      <td>Alpha</td>\n",
       "      <td>Delta</td>\n",
       "    </tr>\n",
       "    <tr>\n",
       "      <th>2</th>\n",
       "      <td>Citi</td>\n",
       "      <td>Bravo</td>\n",
       "      <td>Charlie</td>\n",
       "    </tr>\n",
       "    <tr>\n",
       "      <th>3</th>\n",
       "      <td>Citi</td>\n",
       "      <td>Bravo</td>\n",
       "      <td>Delta</td>\n",
       "    </tr>\n",
       "  </tbody>\n",
       "</table>\n",
       "</div>"
      ],
      "text/plain": [
       "   firm     v1       v2\n",
       "0  Citi  Alpha  Charlie\n",
       "1  Citi  Alpha    Delta\n",
       "2  Citi  Bravo  Charlie\n",
       "3  Citi  Bravo    Delta"
      ]
     },
     "metadata": {},
     "output_type": "display_data"
    }
   ],
   "source": [
    "display(pd.merge(left_df,right_df,how='inner'))"
   ]
  },
  {
   "cell_type": "markdown",
   "metadata": {},
   "source": [
    "See? Each row on the left was matched with every row in the right data with the same key. "
   ]
  },
  {
   "cell_type": "markdown",
   "metadata": {},
   "source": [
    "```{tip}\n",
    "\n",
    "1. Run this helper function before a merge. Does it think you're doing the type of merge you think you are?\n",
    "2. Set the `pd.merge(validate=...` argument to the type of merge you think you're doing. It will produce an error before you start if you're wrong, at which point you should look at your data more.\n",
    "3. Set the `indicator=True` option inside `pd.merge()`. It gives you a variable you can use post-merge for diagnostics.\n",
    "\n",
    "```"
   ]
  },
  {
   "cell_type": "code",
   "execution_count": 4,
   "metadata": {},
   "outputs": [],
   "source": [
    "def merge_type(df1,df2,on):\n",
    "    '''\n",
    "    This function could use case test. E.g.: multiple key vars, missing vars \n",
    "    '''\n",
    "    Feature request: This only works if the key vars are named the same in both datasets.  \n",
    "    '''\n",
    "    # if there are duplicates, dropping them will shrink the key vector\n",
    "    if len(df1[on]) > len(df1[on].drop_duplicates()):\n",
    "        _l = \"many\"\n",
    "    else:\n",
    "        _l = \"one\"\n",
    "    if len(df2[on]) > len(df2[on].drop_duplicates()):\n",
    "        _r = \"many\"\n",
    "    else:\n",
    "        _r = \"one\"\n",
    "    return \"{}_to_{}\".format(_l,_r)\n",
    "\n"
   ]
  },
  {
   "cell_type": "code",
   "execution_count": 5,
   "metadata": {},
   "outputs": [
    {
     "data": {
      "text/plain": [
       "'many_to_many'"
      ]
     },
     "execution_count": 5,
     "metadata": {},
     "output_type": "execute_result"
    }
   ],
   "source": [
    "merge_type(left_df,right_df,'firm')"
   ]
  },
  {
   "cell_type": "code",
   "execution_count": 6,
   "metadata": {},
   "outputs": [
    {
     "data": {
      "text/html": [
       "<div>\n",
       "<style scoped>\n",
       "    .dataframe tbody tr th:only-of-type {\n",
       "        vertical-align: middle;\n",
       "    }\n",
       "\n",
       "    .dataframe tbody tr th {\n",
       "        vertical-align: top;\n",
       "    }\n",
       "\n",
       "    .dataframe thead th {\n",
       "        text-align: right;\n",
       "    }\n",
       "</style>\n",
       "<table border=\"1\" class=\"dataframe\">\n",
       "  <thead>\n",
       "    <tr style=\"text-align: right;\">\n",
       "      <th></th>\n",
       "      <th>firm</th>\n",
       "      <th>v1</th>\n",
       "      <th>v2</th>\n",
       "      <th>_merge</th>\n",
       "    </tr>\n",
       "  </thead>\n",
       "  <tbody>\n",
       "    <tr>\n",
       "      <th>0</th>\n",
       "      <td>Citi</td>\n",
       "      <td>Alpha</td>\n",
       "      <td>Charlie</td>\n",
       "      <td>both</td>\n",
       "    </tr>\n",
       "    <tr>\n",
       "      <th>1</th>\n",
       "      <td>Citi</td>\n",
       "      <td>Alpha</td>\n",
       "      <td>Delta</td>\n",
       "      <td>both</td>\n",
       "    </tr>\n",
       "    <tr>\n",
       "      <th>2</th>\n",
       "      <td>Citi</td>\n",
       "      <td>Bravo</td>\n",
       "      <td>Charlie</td>\n",
       "      <td>both</td>\n",
       "    </tr>\n",
       "    <tr>\n",
       "      <th>3</th>\n",
       "      <td>Citi</td>\n",
       "      <td>Bravo</td>\n",
       "      <td>Delta</td>\n",
       "      <td>both</td>\n",
       "    </tr>\n",
       "  </tbody>\n",
       "</table>\n",
       "</div>"
      ],
      "text/plain": [
       "   firm     v1       v2 _merge\n",
       "0  Citi  Alpha  Charlie   both\n",
       "1  Citi  Alpha    Delta   both\n",
       "2  Citi  Bravo  Charlie   both\n",
       "3  Citi  Bravo    Delta   both"
      ]
     },
     "metadata": {},
     "output_type": "display_data"
    }
   ],
   "source": [
    "display(pd.merge(left_df,right_df,on='firm',how='inner',\n",
    "                validate='many_to_many',\n",
    "                indicator=True))"
   ]
  },
  {
   "cell_type": "markdown",
   "metadata": {},
   "source": [
    "## `indicator=True`\n",
    "\n",
    "The post-merge variable created by `indicator=True` can be very useful to have around. After a merge, you can count the number of rows from each dataset.\n",
    "\n",
    "```python\n",
    "some_informative_name = pd.merge(df1,df2,indicator=True)\n",
    "some_informative_name['_merge'].value_counts() \n",
    "```\n",
    "\n",
    "In action:"
   ]
  },
  {
   "cell_type": "code",
   "execution_count": 7,
   "metadata": {},
   "outputs": [
    {
     "data": {
      "text/plain": [
       "both          4\n",
       "right_only    1\n",
       "left_only     0\n",
       "Name: _merge, dtype: int64"
      ]
     },
     "execution_count": 7,
     "metadata": {},
     "output_type": "execute_result"
    }
   ],
   "source": [
    "pd.merge(left_df,right_df,on='firm',   how='outer',  \n",
    "         # NOTICE! \"how\" has changed from prior example to outer\n",
    "                validate='many_to_many',\n",
    "                indicator=True\n",
    "        )['_merge'].value_counts()          # ['_merge'].value_counts()  \n"
   ]
  },
  {
   "cell_type": "markdown",
   "metadata": {},
   "source": [
    "## `how` : left v. right v. inner v. outer\n",
    "\n",
    "| option | observations in resulting dataset |\n",
    "| :--- | :--- |\n",
    "`how = \"inner\"`| Keys (`on` variables) that are in both datasets \n",
    "`how = \"left\"` | \"inner\" + all unmatched obs in left \n",
    "`how = \"right\"` | \"inner\" + all unmatched obs in right\n",
    "`how = \"outer\"` | \"inner\" + all unmatched obs in left and right\n",
    "\n",
    "Let's illustrate that:\n",
    "\n",
    "\n",
    "![](img/merges.png)"
   ]
  },
  {
   "cell_type": "markdown",
   "metadata": {},
   "source": [
    "### Practice\n",
    "\n",
    "Do a left, right, inner, and outer merge on these datasets to confirm the illustration on `how`:"
   ]
  },
  {
   "cell_type": "code",
   "execution_count": 8,
   "metadata": {},
   "outputs": [],
   "source": [
    "left_df = pd.DataFrame({\n",
    "                    'firm': ['Accenture','Citi','GS'],\n",
    "                    'varA': ['A1', 'A2', 'A3']})\n",
    "\n",
    "right_df = pd.DataFrame({\n",
    "                    'firm': ['GS','Chase','WF'],\n",
    "                    'varB': ['B1', 'B2', 'B3'],\n",
    "                    'varc': ['C1', 'C2', 'C3']})                             \n"
   ]
  },
  {
   "cell_type": "markdown",
   "metadata": {},
   "source": [
    "## Merging in new variables to your analysis\n",
    "\n",
    "A typical \"use case\" for merging: You are working on some data you want to analyze (let's call this the \"left\" data), and you want to merge in another dataset (the \"right\" data) in order to add a variable to your analysis. \n",
    "\n",
    "```{admonition} **HOT TIPS**\n",
    ":class: tip\n",
    "\n",
    "**The number of rows in your dataset shouldn't change!** Do both of these and you'll be set:\n",
    "1. Set `how = 'left'`\n",
    "    - _From the table above, this means that the post-merge data will have a length equal to the number of unmatched rows from the left plus the number of rows from the intersection (\"inner\")_\n",
    "2. Set `validate='one_to_one'` or `validate='many_to_one'`\n",
    "    - This means that any observations from the left that are matched to the right (the intersection of the two datasets) can only be matched to one observation. In other words, the intersection will not be larger than it is in the left data.\n",
    "```\n",
    "\n",
    "You can verify your dataset is the same length before and after the merge many ways. Here is an easy one: \n",
    " \n",
    "```python\n",
    "# a way to check; this is pseudo code \n",
    "len(df)\n",
    "df = df.merge(someNewData, \n",
    "              on=[listofvars],\n",
    "              how='left',\n",
    "              validate='one_to_one') # or 'many_to_one'\n",
    "len(df)\n",
    "```\n",
    "\n"
   ]
  },
  {
   "cell_type": "markdown",
   "metadata": {},
   "source": [
    "## Create your variables before a merge when possible\n",
    "\n",
    "Suppose you want to merge in a new variable to your analysis data. The variable is a function of a variable in another dataset. Should we create the variable before the merge or after the merge?\n",
    "\n",
    "```python\n",
    "# before \n",
    "newVar = function(right['x'])\n",
    "left.merge(newVar)\n",
    "\n",
    "# after \n",
    "merge = left.merge(right)\n",
    "merge['newVar'] = function(merge['x'])\n",
    "```\n",
    "\n",
    "Both are feasible! So which should you choose?\n",
    "\n",
    "```{note}\n",
    "[Golden Rule 4.B from the Good Analysis Practices chapter](../02/10_Golden_3) is \"Keep data normalized as far into your code pipeline as you can.\" \n",
    "```\n",
    "\n",
    "One implication of that is to create variables on the \"smallest\" dataset where you can validly compute the variable. By \"smallest\", I mean: the dataset where the units exactly correspond to the statistic you have in mind.\n",
    "\n",
    "Example: Suppose you want to calculate the variance of annual industry sales.\n",
    "- Do this: Open an industry-level dataset with annual sales, and take the variance. \n",
    "- Not this: Merge annual sales into a industry-day level dataset (with many days for each industry) and then take the variance.  \n",
    "\n",
    "Let me show you that the latter can give you the wrong answer:"
   ]
  },
  {
   "cell_type": "code",
   "execution_count": 9,
   "metadata": {},
   "outputs": [
    {
     "data": {
      "text/html": [
       "<div>\n",
       "<style scoped>\n",
       "    .dataframe tbody tr th:only-of-type {\n",
       "        vertical-align: middle;\n",
       "    }\n",
       "\n",
       "    .dataframe tbody tr th {\n",
       "        vertical-align: top;\n",
       "    }\n",
       "\n",
       "    .dataframe thead th {\n",
       "        text-align: right;\n",
       "    }\n",
       "</style>\n",
       "<table border=\"1\" class=\"dataframe\">\n",
       "  <thead>\n",
       "    <tr style=\"text-align: right;\">\n",
       "      <th></th>\n",
       "      <th>industry</th>\n",
       "      <th>x</th>\n",
       "    </tr>\n",
       "  </thead>\n",
       "  <tbody>\n",
       "    <tr>\n",
       "      <th>0</th>\n",
       "      <td>1</td>\n",
       "      <td>7</td>\n",
       "    </tr>\n",
       "    <tr>\n",
       "      <th>1</th>\n",
       "      <td>2</td>\n",
       "      <td>5</td>\n",
       "    </tr>\n",
       "    <tr>\n",
       "      <th>2</th>\n",
       "      <td>3</td>\n",
       "      <td>0</td>\n",
       "    </tr>\n",
       "    <tr>\n",
       "      <th>3</th>\n",
       "      <td>4</td>\n",
       "      <td>2</td>\n",
       "    </tr>\n",
       "    <tr>\n",
       "      <th>4</th>\n",
       "      <td>5</td>\n",
       "      <td>7</td>\n",
       "    </tr>\n",
       "    <tr>\n",
       "      <th>5</th>\n",
       "      <td>6</td>\n",
       "      <td>0</td>\n",
       "    </tr>\n",
       "  </tbody>\n",
       "</table>\n",
       "</div>"
      ],
      "text/plain": [
       "   industry  x\n",
       "0         1  7\n",
       "1         2  5\n",
       "2         3  0\n",
       "3         4  2\n",
       "4         5  7\n",
       "5         6  0"
      ]
     },
     "metadata": {},
     "output_type": "display_data"
    },
    {
     "name": "stdout",
     "output_type": "stream",
     "text": [
      "STD if you calculate it before the merge: 3.271085446759225\n"
     ]
    }
   ],
   "source": [
    "right = pd.DataFrame({\n",
    "                   \"industry\":[1,2,3,4,5,6], \n",
    "                   }) \n",
    "right['x'] = pd.DataFrame(np.random.randint(0,10,size=(6, 1)), columns=list('x'))\n",
    "display(right)\n",
    "print(\"STD if you calculate it before the merge:\",right.x.std())"
   ]
  },
  {
   "cell_type": "markdown",
   "metadata": {},
   "source": [
    "So that is the correct standard deviation.\n",
    "\n",
    "If you use this as the right dataframe in a M:1 merge with an industry-day dataset as the left, then what happens is that our right df will be duplicated in the post-merge dataset many times: Each 1 of the right dataframe is matched to the left M times. And this leads to an error in the calculation!"
   ]
  },
  {
   "cell_type": "code",
   "execution_count": 10,
   "metadata": {},
   "outputs": [
    {
     "name": "stdout",
     "output_type": "stream",
     "text": [
      "STD if you calculate it after the merge: 3.028436654683167\n"
     ]
    }
   ],
   "source": [
    "# these lines of code stack the right df 6 times, as would happen \n",
    "# if the left df had 6 days for each industry \n",
    "after_merge = right\n",
    "after_merge = after_merge.append(right).append(right).append(right).append(right).append(right)\n",
    "print(\"STD if you calculate it after the merge:\",after_merge.x.std())"
   ]
  },
  {
   "cell_type": "markdown",
   "metadata": {},
   "source": [
    "## Tips and best practices\n",
    "\n",
    "````{warning}\n",
    "```{tip}\n",
    "⭐⭐⭐ **THESE ARE IMPORTANT** ⭐⭐⭐\n",
    "```\n",
    "````\n",
    "\n",
    "1. **Pick the \"keys\" you'll merge on**\n",
    "    1. What are the observation units in each of your datasets? \n",
    "    1. What variable (**or variables**) should you be merging on? For example: Should you merge based on the firm, or the firm AND the year?  \n",
    "        <br>\n",
    "        **I usually merge with as many levels of units as are in both datasets.** So if I have two firm-year datasets, I merge on firm AND year. If I have an asset-day dataset (stock returns) and a daily dataset (returns for the overall stock market), merge on the date. \n",
    "1. **Before (before!) your merge, examine the keys**\n",
    "    1. Drop any observations with missing keys in each dataset\n",
    "    2. How many unique keys are in each dataset? Simply replace `df` and `keyvars` in this: `len(df[<keyvars>].drop_duplicates()`\n",
    "    3. Know what the observation unit will be after your merge. E.g., if you have a firm dataset, and a weekly dataset, the resulting dataset might be a firm-week data.     \n",
    "1. **Always specify `how`, `on`, `indicator`, and `validate` inside `pd.merge()` or `df1.merge(df2)`**\n",
    "    1. This will force you to think about the observation levels in each dataset you're merging before you try the merge, and whether the merge you're doing is 1:1, 1:M, M:M, or M:1.\n",
    "    2. Guess how many observations you'll have (more or less than left? more or less than right or left?) and then check afterwards. \n",
    "1. **After the merge**, check that it did what you expected, and give the resulting dataframe a _good_ name. **Don't name it \"merged\"!!!**\n",
    "    1. Look at a good chunk of data before and after the merge. This is just following the \"look at the data\" golden rule.     \n",
    "    1. Examine the `_merge` variable (value_counts, e.g.)\n",
    "    1. Good names: I often actively name the dataframe to the new observation level. \n",
    "    \n",
    "        _For example, I know exactly how `state_industry_year_df` and `state_industry_df` should differ._     \n",
    "    \n",
    "````{warning}\n",
    "If I see assignments with a line like `merged=pd.merge(...)` I'll mark that down automatically. (You name it `merged`!) \n",
    " \n",
    "If I see assignments with a line like `merged=pd.merge(df1,df2)` or `merged = df1.merge(df2)`, I'll mark that down automatically. (You didn't declare the merge function parameters!) \n",
    "````    \n"
   ]
  },
  {
   "cell_type": "markdown",
   "metadata": {},
   "source": [
    "## A nice overview\n",
    "\n",
    "The [Python Data Science Handbook](https://jakevdp.github.io/PythonDataScienceHandbook/03.07-merge-and-join.html) has a wonderful breakdown of the mechanics of merging. You should read it!\n"
   ]
  }
 ],
 "metadata": {
  "kernelspec": {
   "display_name": "Python 3 (ipykernel)",
   "language": "python",
   "name": "python3"
  },
  "language_info": {
   "codemirror_mode": {
    "name": "ipython",
    "version": 3
   },
   "file_extension": ".py",
   "mimetype": "text/x-python",
   "name": "python",
   "nbconvert_exporter": "python",
   "pygments_lexer": "ipython3",
   "version": "3.8.12"
  }
 },
 "nbformat": 4,
 "nbformat_minor": 4
}
